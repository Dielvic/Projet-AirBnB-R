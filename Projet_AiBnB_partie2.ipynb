{
  "nbformat": 4,
  "nbformat_minor": 0,
  "metadata": {
    "colab": {
      "name": "Partie_2Airbnb.ipynb",
      "provenance": [],
      "collapsed_sections": []
    },
    "kernelspec": {
      "display_name": "R",
      "name": "ir"
    }
  },
  "cells": [
    {
      "cell_type": "code",
      "metadata": {
        "colab": {
          "base_uri": "https://localhost:8080/"
        },
        "id": "vJ-fMfCKx_Zp",
        "outputId": "e792e7e1-c8f4-45f8-b2d6-6ccc9308a47b"
      },
      "source": [
        "install.packages('data.table')\r\n",
        "install.packages('R.utils')\r\n",
        "install.packages('bit64')\r\n",
        "install.packages('leaflet')\r\n",
        "install.packages('magrittr')\r\n"
      ],
      "execution_count": null,
      "outputs": [
        {
          "output_type": "stream",
          "text": [
            "Installing package into ‘/usr/local/lib/R/site-library’\n",
            "(as ‘lib’ is unspecified)\n",
            "\n",
            "Installing package into ‘/usr/local/lib/R/site-library’\n",
            "(as ‘lib’ is unspecified)\n",
            "\n",
            "also installing the dependencies ‘R.oo’, ‘R.methodsS3’\n",
            "\n",
            "\n",
            "Installing package into ‘/usr/local/lib/R/site-library’\n",
            "(as ‘lib’ is unspecified)\n",
            "\n",
            "also installing the dependency ‘bit’\n",
            "\n",
            "\n",
            "Installing package into ‘/usr/local/lib/R/site-library’\n",
            "(as ‘lib’ is unspecified)\n",
            "\n",
            "also installing the dependencies ‘gridExtra’, ‘png’, ‘raster’, ‘sp’, ‘viridis’, ‘leaflet.providers’\n",
            "\n",
            "\n",
            "Installing package into ‘/usr/local/lib/R/site-library’\n",
            "(as ‘lib’ is unspecified)\n",
            "\n"
          ],
          "name": "stderr"
        }
      ]
    },
    {
      "cell_type": "code",
      "metadata": {
        "colab": {
          "base_uri": "https://localhost:8080/"
        },
        "id": "ZRCCsJ7DyH-S",
        "outputId": "81924240-f0f7-4e88-eedd-5abacdd8302b"
      },
      "source": [
        "library(data.table)\r\n",
        "library(dplyr)\r\n",
        "library(ggplot2)\r\n",
        "library(R.utils)\r\n",
        "library(bit64)\r\n",
        "library(repr)\r\n",
        "library(leaflet)\r\n",
        "library(stringr)\r\n"
      ],
      "execution_count": null,
      "outputs": [
        {
          "output_type": "stream",
          "text": [
            "\n",
            "Attaching package: ‘dplyr’\n",
            "\n",
            "\n",
            "The following objects are masked from ‘package:data.table’:\n",
            "\n",
            "    between, first, last\n",
            "\n",
            "\n",
            "The following objects are masked from ‘package:stats’:\n",
            "\n",
            "    filter, lag\n",
            "\n",
            "\n",
            "The following objects are masked from ‘package:base’:\n",
            "\n",
            "    intersect, setdiff, setequal, union\n",
            "\n",
            "\n",
            "Loading required package: R.oo\n",
            "\n",
            "Loading required package: R.methodsS3\n",
            "\n",
            "R.methodsS3 v1.8.1 (2020-08-26 16:20:06 UTC) successfully loaded. See ?R.methodsS3 for help.\n",
            "\n",
            "R.oo v1.24.0 (2020-08-26 16:11:58 UTC) successfully loaded. See ?R.oo for help.\n",
            "\n",
            "\n",
            "Attaching package: ‘R.oo’\n",
            "\n",
            "\n",
            "The following object is masked from ‘package:R.methodsS3’:\n",
            "\n",
            "    throw\n",
            "\n",
            "\n",
            "The following objects are masked from ‘package:methods’:\n",
            "\n",
            "    getClasses, getMethods\n",
            "\n",
            "\n",
            "The following objects are masked from ‘package:base’:\n",
            "\n",
            "    attach, detach, load, save\n",
            "\n",
            "\n",
            "R.utils v2.10.1 (2020-08-26 22:50:31 UTC) successfully loaded. See ?R.utils for help.\n",
            "\n",
            "\n",
            "Attaching package: ‘R.utils’\n",
            "\n",
            "\n",
            "The following object is masked from ‘package:utils’:\n",
            "\n",
            "    timestamp\n",
            "\n",
            "\n",
            "The following objects are masked from ‘package:base’:\n",
            "\n",
            "    cat, commandArgs, getOption, inherits, isOpen, nullfile, parse,\n",
            "    warnings\n",
            "\n",
            "\n",
            "Loading required package: bit\n",
            "\n",
            "\n",
            "Attaching package: ‘bit’\n",
            "\n",
            "\n",
            "The following object is masked from ‘package:R.oo’:\n",
            "\n",
            "    clone\n",
            "\n",
            "\n",
            "The following object is masked from ‘package:data.table’:\n",
            "\n",
            "    setattr\n",
            "\n",
            "\n",
            "The following object is masked from ‘package:base’:\n",
            "\n",
            "    xor\n",
            "\n",
            "\n",
            "Attaching package bit64\n",
            "\n",
            "package:bit64 (c) 2011-2017 Jens Oehlschlaegel\n",
            "\n",
            "creators: integer64 runif64 seq :\n",
            "\n",
            "coercion: as.integer64 as.vector as.logical as.integer as.double as.character as.bitstring\n",
            "\n",
            "logical operator: ! & | xor != == < <= >= >\n",
            "\n",
            "arithmetic operator: + - * / %/% %% ^\n",
            "\n",
            "math: sign abs sqrt log log2 log10\n",
            "\n",
            "math: floor ceiling trunc round\n",
            "\n",
            "querying: is.integer64 is.vector [is.atomic} [length] format print str\n",
            "\n",
            "values: is.na is.nan is.finite is.infinite\n",
            "\n",
            "aggregation: any all min max range sum prod\n",
            "\n",
            "cumulation: diff cummin cummax cumsum cumprod\n",
            "\n",
            "access: length<- [ [<- [[ [[<-\n",
            "\n",
            "combine: c rep cbind rbind as.data.frame\n",
            "\n",
            "WARNING don't use as subscripts\n",
            "\n",
            "WARNING semantics differ from integer\n",
            "\n",
            "for more help type ?bit64\n",
            "\n",
            "\n",
            "Attaching package: ‘bit64’\n",
            "\n",
            "\n",
            "The following objects are masked from ‘package:base’:\n",
            "\n",
            "    :, %in%, is.double, match, order, rank\n",
            "\n",
            "\n"
          ],
          "name": "stderr"
        }
      ]
    },
    {
      "cell_type": "code",
      "metadata": {
        "colab": {
          "base_uri": "https://localhost:8080/",
          "height": 425
        },
        "id": "QwTacVqzzNDt",
        "outputId": "f0020f16-4cbc-4e5e-bfca-8e7bf929400c"
      },
      "source": [
        "calendar <- fread(\"http://data.insideairbnb.com/france/ile-de-france/paris/2020-10-12/data/calendar.csv.gz\", encoding = 'UTF-8')\r\n",
        "head(calendar,20)"
      ],
      "execution_count": null,
      "outputs": [
        {
          "output_type": "display_data",
          "data": {
            "text/plain": [
              "   listing_id date       available price   adjusted_price minimum_nights\n",
              "1   2577      2020-10-19 f         $125.00 $125.00        3             \n",
              "2  73533      2020-10-20 t         $95.00  $95.00         2             \n",
              "3  73533      2020-10-21 t         $95.00  $95.00         2             \n",
              "4  73533      2020-10-22 t         $95.00  $95.00         2             \n",
              "5  73533      2020-10-23 t         $95.00  $95.00         2             \n",
              "6  73533      2020-10-24 t         $95.00  $95.00         2             \n",
              "7  73533      2020-10-25 t         $95.00  $95.00         2             \n",
              "8  73533      2020-10-26 t         $95.00  $95.00         2             \n",
              "9  73533      2020-10-27 t         $95.00  $95.00         2             \n",
              "10 73533      2020-10-28 t         $95.00  $95.00         2             \n",
              "11 73533      2020-10-29 t         $95.00  $95.00         2             \n",
              "12 73533      2020-10-30 t         $95.00  $95.00         2             \n",
              "13 73533      2020-10-31 t         $95.00  $95.00         2             \n",
              "14 73533      2020-11-01 f         $135.00 $135.00        2             \n",
              "15 73533      2020-11-02 f         $135.00 $135.00        2             \n",
              "16 73533      2020-11-03 f         $135.00 $135.00        2             \n",
              "17 73533      2020-11-04 f         $135.00 $135.00        2             \n",
              "18 73533      2020-11-05 f         $135.00 $135.00        2             \n",
              "19 73533      2020-11-06 f         $135.00 $135.00        2             \n",
              "20 73533      2020-11-07 f         $135.00 $135.00        2             \n",
              "   maximum_nights\n",
              "1  1125          \n",
              "2  1125          \n",
              "3  1125          \n",
              "4  1125          \n",
              "5  1125          \n",
              "6  1125          \n",
              "7  1125          \n",
              "8  1125          \n",
              "9  1125          \n",
              "10 1125          \n",
              "11 1125          \n",
              "12 1125          \n",
              "13 1125          \n",
              "14 1125          \n",
              "15 1125          \n",
              "16 1125          \n",
              "17 1125          \n",
              "18 1125          \n",
              "19 1125          \n",
              "20 1125          "
            ],
            "text/latex": "A data.table: 20 × 7\n\\begin{tabular}{lllllll}\n listing\\_id & date & available & price & adjusted\\_price & minimum\\_nights & maximum\\_nights\\\\\n <int> & <date> & <chr> & <chr> & <chr> & <int> & <int>\\\\\n\\hline\n\t  2577 & 2020-10-19 & f & \\$125.00 & \\$125.00 & 3 & 1125\\\\\n\t 73533 & 2020-10-20 & t & \\$95.00  & \\$95.00  & 2 & 1125\\\\\n\t 73533 & 2020-10-21 & t & \\$95.00  & \\$95.00  & 2 & 1125\\\\\n\t 73533 & 2020-10-22 & t & \\$95.00  & \\$95.00  & 2 & 1125\\\\\n\t 73533 & 2020-10-23 & t & \\$95.00  & \\$95.00  & 2 & 1125\\\\\n\t 73533 & 2020-10-24 & t & \\$95.00  & \\$95.00  & 2 & 1125\\\\\n\t 73533 & 2020-10-25 & t & \\$95.00  & \\$95.00  & 2 & 1125\\\\\n\t 73533 & 2020-10-26 & t & \\$95.00  & \\$95.00  & 2 & 1125\\\\\n\t 73533 & 2020-10-27 & t & \\$95.00  & \\$95.00  & 2 & 1125\\\\\n\t 73533 & 2020-10-28 & t & \\$95.00  & \\$95.00  & 2 & 1125\\\\\n\t 73533 & 2020-10-29 & t & \\$95.00  & \\$95.00  & 2 & 1125\\\\\n\t 73533 & 2020-10-30 & t & \\$95.00  & \\$95.00  & 2 & 1125\\\\\n\t 73533 & 2020-10-31 & t & \\$95.00  & \\$95.00  & 2 & 1125\\\\\n\t 73533 & 2020-11-01 & f & \\$135.00 & \\$135.00 & 2 & 1125\\\\\n\t 73533 & 2020-11-02 & f & \\$135.00 & \\$135.00 & 2 & 1125\\\\\n\t 73533 & 2020-11-03 & f & \\$135.00 & \\$135.00 & 2 & 1125\\\\\n\t 73533 & 2020-11-04 & f & \\$135.00 & \\$135.00 & 2 & 1125\\\\\n\t 73533 & 2020-11-05 & f & \\$135.00 & \\$135.00 & 2 & 1125\\\\\n\t 73533 & 2020-11-06 & f & \\$135.00 & \\$135.00 & 2 & 1125\\\\\n\t 73533 & 2020-11-07 & f & \\$135.00 & \\$135.00 & 2 & 1125\\\\\n\\end{tabular}\n",
            "text/markdown": "\nA data.table: 20 × 7\n\n| listing_id &lt;int&gt; | date &lt;date&gt; | available &lt;chr&gt; | price &lt;chr&gt; | adjusted_price &lt;chr&gt; | minimum_nights &lt;int&gt; | maximum_nights &lt;int&gt; |\n|---|---|---|---|---|---|---|\n|  2577 | 2020-10-19 | f | $125.00 | $125.00 | 3 | 1125 |\n| 73533 | 2020-10-20 | t | $95.00  | $95.00  | 2 | 1125 |\n| 73533 | 2020-10-21 | t | $95.00  | $95.00  | 2 | 1125 |\n| 73533 | 2020-10-22 | t | $95.00  | $95.00  | 2 | 1125 |\n| 73533 | 2020-10-23 | t | $95.00  | $95.00  | 2 | 1125 |\n| 73533 | 2020-10-24 | t | $95.00  | $95.00  | 2 | 1125 |\n| 73533 | 2020-10-25 | t | $95.00  | $95.00  | 2 | 1125 |\n| 73533 | 2020-10-26 | t | $95.00  | $95.00  | 2 | 1125 |\n| 73533 | 2020-10-27 | t | $95.00  | $95.00  | 2 | 1125 |\n| 73533 | 2020-10-28 | t | $95.00  | $95.00  | 2 | 1125 |\n| 73533 | 2020-10-29 | t | $95.00  | $95.00  | 2 | 1125 |\n| 73533 | 2020-10-30 | t | $95.00  | $95.00  | 2 | 1125 |\n| 73533 | 2020-10-31 | t | $95.00  | $95.00  | 2 | 1125 |\n| 73533 | 2020-11-01 | f | $135.00 | $135.00 | 2 | 1125 |\n| 73533 | 2020-11-02 | f | $135.00 | $135.00 | 2 | 1125 |\n| 73533 | 2020-11-03 | f | $135.00 | $135.00 | 2 | 1125 |\n| 73533 | 2020-11-04 | f | $135.00 | $135.00 | 2 | 1125 |\n| 73533 | 2020-11-05 | f | $135.00 | $135.00 | 2 | 1125 |\n| 73533 | 2020-11-06 | f | $135.00 | $135.00 | 2 | 1125 |\n| 73533 | 2020-11-07 | f | $135.00 | $135.00 | 2 | 1125 |\n\n",
            "text/html": [
              "<table>\n",
              "<caption>A data.table: 20 × 7</caption>\n",
              "<thead>\n",
              "\t<tr><th scope=col>listing_id</th><th scope=col>date</th><th scope=col>available</th><th scope=col>price</th><th scope=col>adjusted_price</th><th scope=col>minimum_nights</th><th scope=col>maximum_nights</th></tr>\n",
              "\t<tr><th scope=col>&lt;int&gt;</th><th scope=col>&lt;date&gt;</th><th scope=col>&lt;chr&gt;</th><th scope=col>&lt;chr&gt;</th><th scope=col>&lt;chr&gt;</th><th scope=col>&lt;int&gt;</th><th scope=col>&lt;int&gt;</th></tr>\n",
              "</thead>\n",
              "<tbody>\n",
              "\t<tr><td> 2577</td><td>2020-10-19</td><td>f</td><td>$125.00</td><td>$125.00</td><td>3</td><td>1125</td></tr>\n",
              "\t<tr><td>73533</td><td>2020-10-20</td><td>t</td><td>$95.00 </td><td>$95.00 </td><td>2</td><td>1125</td></tr>\n",
              "\t<tr><td>73533</td><td>2020-10-21</td><td>t</td><td>$95.00 </td><td>$95.00 </td><td>2</td><td>1125</td></tr>\n",
              "\t<tr><td>73533</td><td>2020-10-22</td><td>t</td><td>$95.00 </td><td>$95.00 </td><td>2</td><td>1125</td></tr>\n",
              "\t<tr><td>73533</td><td>2020-10-23</td><td>t</td><td>$95.00 </td><td>$95.00 </td><td>2</td><td>1125</td></tr>\n",
              "\t<tr><td>73533</td><td>2020-10-24</td><td>t</td><td>$95.00 </td><td>$95.00 </td><td>2</td><td>1125</td></tr>\n",
              "\t<tr><td>73533</td><td>2020-10-25</td><td>t</td><td>$95.00 </td><td>$95.00 </td><td>2</td><td>1125</td></tr>\n",
              "\t<tr><td>73533</td><td>2020-10-26</td><td>t</td><td>$95.00 </td><td>$95.00 </td><td>2</td><td>1125</td></tr>\n",
              "\t<tr><td>73533</td><td>2020-10-27</td><td>t</td><td>$95.00 </td><td>$95.00 </td><td>2</td><td>1125</td></tr>\n",
              "\t<tr><td>73533</td><td>2020-10-28</td><td>t</td><td>$95.00 </td><td>$95.00 </td><td>2</td><td>1125</td></tr>\n",
              "\t<tr><td>73533</td><td>2020-10-29</td><td>t</td><td>$95.00 </td><td>$95.00 </td><td>2</td><td>1125</td></tr>\n",
              "\t<tr><td>73533</td><td>2020-10-30</td><td>t</td><td>$95.00 </td><td>$95.00 </td><td>2</td><td>1125</td></tr>\n",
              "\t<tr><td>73533</td><td>2020-10-31</td><td>t</td><td>$95.00 </td><td>$95.00 </td><td>2</td><td>1125</td></tr>\n",
              "\t<tr><td>73533</td><td>2020-11-01</td><td>f</td><td>$135.00</td><td>$135.00</td><td>2</td><td>1125</td></tr>\n",
              "\t<tr><td>73533</td><td>2020-11-02</td><td>f</td><td>$135.00</td><td>$135.00</td><td>2</td><td>1125</td></tr>\n",
              "\t<tr><td>73533</td><td>2020-11-03</td><td>f</td><td>$135.00</td><td>$135.00</td><td>2</td><td>1125</td></tr>\n",
              "\t<tr><td>73533</td><td>2020-11-04</td><td>f</td><td>$135.00</td><td>$135.00</td><td>2</td><td>1125</td></tr>\n",
              "\t<tr><td>73533</td><td>2020-11-05</td><td>f</td><td>$135.00</td><td>$135.00</td><td>2</td><td>1125</td></tr>\n",
              "\t<tr><td>73533</td><td>2020-11-06</td><td>f</td><td>$135.00</td><td>$135.00</td><td>2</td><td>1125</td></tr>\n",
              "\t<tr><td>73533</td><td>2020-11-07</td><td>f</td><td>$135.00</td><td>$135.00</td><td>2</td><td>1125</td></tr>\n",
              "</tbody>\n",
              "</table>\n"
            ]
          },
          "metadata": {
            "tags": []
          }
        }
      ]
    },
    {
      "cell_type": "code",
      "metadata": {
        "colab": {
          "base_uri": "https://localhost:8080/",
          "height": 313
        },
        "id": "p1sz-OLAzXmd",
        "outputId": "f9233653-c461-4e8d-e353-29c9361b2753"
      },
      "source": [
        "listings <- fread(\"http://data.insideairbnb.com/france/ile-de-france/paris/2020-10-12/data/listings.csv.gz\", encoding = 'UTF-8')\r\n",
        "\r\n",
        "head(listings)"
      ],
      "execution_count": null,
      "outputs": [
        {
          "output_type": "display_data",
          "data": {
            "text/plain": [
              "  id   listing_url                       scrape_id      last_scraped\n",
              "1 2577 https://www.airbnb.com/rooms/2577 20201012032825 2020-10-19  \n",
              "2 3109 https://www.airbnb.com/rooms/3109 20201012032825 2020-10-18  \n",
              "3 4886 https://www.airbnb.com/rooms/4886 20201012032825 2020-10-18  \n",
              "4 4890 https://www.airbnb.com/rooms/4890 20201012032825 2020-10-14  \n",
              "5 5396 https://www.airbnb.com/rooms/5396 20201012032825 2020-10-15  \n",
              "6 7397 https://www.airbnb.com/rooms/7397 20201012032825 2020-10-16  \n",
              "  name                                            \n",
              "1 Loft for 4 by Canal Saint Martin                \n",
              "2 zen and calm                                    \n",
              "3 Country-Style Studio Hip Area FREE CRUISE & WIFI\n",
              "4 Quiet Historic & Cute  +Free Cruise             \n",
              "5 Explore the heart of old Paris                  \n",
              "6 MARAIS - 2ROOMS APT - 2/4 PEOPLE                \n",
              "  description                                                                                                                                                                                                                                                                                                                                                                                                                                                                                                                                                                                                                                                                                                                                                                                                                                                                                                                                                                                                                             \n",
              "1 100 m2 loft (1100 sq feet) with high ceiling, open modern kitchen, cable tv, wifi, sleeping space up to 5 people, Republique area, 5 minutes from the St Martin Canal, Marais area, 10 min from Chatelet and the Louvre.<br /><br /><b>The space</b><br />The district has any service or shop you may desire at a walking distance, many restaurants and clubs as well. <br />I will be pleased to suggest our best addresses and give you directions to have a very enjoyable journey. <br />We have 1 separated bedroom and one mezzanine for the second bed. One bathroom is \"\"en suite\"\" to the main bedroom. <br />Welcome to our beautiful loft!<br />Karine                                                                                                                                                                                                                                                                                                                                                                     \n",
              "2 <b>The space</b><br />I bedroom appartment in Paris 14                                                                                                                                                                                                                                                                                                                                                                                                                                                                                                                                                                                                                                                                                                                                                                                                                                                                                                                                                                                  \n",
              "3 Bright and Cozy Studio Apartment for  2 Guests. Enjoy Great Authentic and Central Location near Canal St Martin and Republique. Historic Building with Elevator. <br />Outdoor Market a block away. Steps to Trendy Rue Oberkampf & Hip Canal St Martin. Minutes to the Marais District or Bastille.  2 Free Ricer Cruise Tix !<br /><br /><b>The space</b><br />2 Free River Cruise Tix with your booking !  Mention this offer with your booking. <br /><br />Studio la Fontaine is a well-equipped country-style 15 sq. meter studio apartment that has a warm and cozy feel. It can sleep up to 2 guests.<br /><br />Located in one of the most loved neighborhoods by hip Parisians and those in the know.  <br />Trendy area with many funky shops, well-regarded restaurants and innovative art galleries.<br /><br />Fully furnished and stylishly decorated, this apartment is located in a historic building built in the 18th century with elevator.<br /><br />Located on a very pretty square, your window looks out over t\n",
              "4 Stylish & Classic One bedroom apartment for up to 4 guests. Newly Renovated Fully Equipped Kitchen that is a Chefs Delight! Trendy North Marais Location, walk to Notre-Dame in minutes. 1 Block from Rue De Bretagne Market Street + 2 Free River Cruise!<br /><br /><b>The space</b><br />2 Free River Cruise Tix with your booking !  Mention this offer with your booking.<br /><br />Le Jardin Du Marais is a classically furnished 35 sq.meter one bedroom apartment, that can welcome up to 4 guests.<br /><br />With exposed ancient ceiling beams, hardwood floor and stylish decor, mixing modern design with gold gilded mirrors, Le Jardin Du Marais is a welcoming respite in the city.<br /><br />Located just off Rue Du Temple, walk to the heart of Paris in minutes. A short walk to Hotel De Ville, the River Seine, the Central Islands, Notre-Dame Cathedral and more, you are in the heart of it all.<br /><br />Enjoy local Rue De Bretagne a block away for authentic gourmet shops. Bakeries, cheese shops, but\n",
              "5 Cozy, well-appointed and graciously designed studio apartment that mixes old and new aesthetics at the very heart of Paris, on the famous Isle St Louis that is a stone's throw from Le Marais, Quartier Latin, Notre Dame and Le Louvre.<br /><br /><b>The space</b><br />Small, well appointed studio apartment at the very heart of Paris, on the famous Isle St Louis.<br /><br />FOUR-NIGHT MINIMUM. <br /><br />We are looking for quiet persons or couples to rent our fully equipped and furnished studio (about 30 square meters or 300 square feet) in central Paris on the famous Isle St. Louis. Please contact us for more information. Discounts available for longer stays.<br /><br />The location is superb. Pick up fresh bread at the nearby boulangerie and some exquisite cheese at the local fromagerie for breakfast. Take a late night stroll along the nearby Seine. Bar hop in the adjacent Marais district, the East Village of Paris.<br /><br /><b>Guest access</b><br />The flat includes its own modern b\n",
              "6 VERY CONVENIENT, WITH THE BEST LOCATION !<br /><br /><b>The space</b><br />PLEASE ASK ME BEFORE TO MAKE A REQUEST !!!<br /><br />No check-in hour: I do my best !<br /><br /><br />HEART OF THE HISTORICAL PARIS<br /><br /> Marais, in a securated and classified building, 2d floor, charming 2/3Rooms apt 40 m2, Ideal location in the very heart of historical Paris, metro station: Hôtel-de-Ville, just a few minutes on foot to the Centre Pompidou, Place des Vosges, the Seine River, Notre-Dame Cathedral, the Saint-Louis island... and most of the monuments and museums in Paris. Local restaurants and shops cater to all tastes and budgets. Very charming, quiet, sunny, fully furnished, two bedrooms (one with a large bed, the other with a large and very good sofa/bed), Large bathroom with italian shower. Internet+tel+TV included. Electricity included for normal using. Perfect for one couple, two couples or one couple with one or two children.<br />The apart, at the second floor without lift, reveals\n",
              "  neighborhood_overview                                                                                                                                                                                                                                                                                                                                                                                                                                                                                                                                                                                                                                                                                                                                                                                                                                                                                                                                                                                                                     \n",
              "1                                                                                                                                                                                                                                                                                                                                                                                                                                                                                                                                                                                                                                                                                                                                                                                                                                                                                                                                                                                                                                           \n",
              "2 Good restaurants<br />very close the Montparnasse Station<br />15 m from the center of Paris                                                                                                                                                                                                                                                                                                                                                                                                                                                                                                                                                                                                                                                                                                                                                                                                                                                                                                                                              \n",
              "3 2 Free River Cruise Tix with your booking !  Mention this offer with your booking.<br /><br />Located on lively Rue Jean Pierre Timbaud in the same building as the famous restaurant \"\"Astier\"\". The street has many authentic restaurants, markets, cafes and bistros to choose from.<br /><br />Located in the 11th Arrondissement (district) on the border of the 3rd, which is the beautiful and fashionable Marais neighborhood.<br />You will be walking distance to all the shopping, cafes, restaurants and museums that\"\" Le Marais\"\" has to offer.<br /><br />The Canal St Martin is only three minutes away and it is a shady and cool place to relax on a hot summer day with a book and a baguette. Made famous in the movie Amelie, you can see where she skipped stones across the water to relax.<br /><br />You are a 30 minute walk from Notre Dame Cathedral, Isle Saint Louis, the Louvre and the entire heart of Paris. Or take the metro and be there within 10 minutes.                                           \n",
              "4 Called \"\"Paris Next Great Neighborhood\"\" from Travel and Leisure Magazine, the 3rd Arrondissement or the Haut Marais is The Place to be in Paris.<br />Le Marais is a historic district in Paris. Long the aristocratic district of Paris, it hosts many outstanding buildings of historic and architectural importance. It spreads across parts of the 3rd and 4th arrondissements in Paris.<br />The Marais is now one of Paris' main localities for art galleries. Following its rehabilitation, the Marais has become a fashionable district, home to many trendy restaurants, fashion houses, and hip galleries.<br />Other features of the neighbourhood include the Musée Picasso, the house of Nicolas Flamel, the Musée Cognacq-Jay, the Musée Carnavalet and the new and very popular Café Charlot.<br />The Haut Marais is the Northern Part of the District, bordering on Place De La Republique, featuring Rue De Bretagne, a market street that offers a village feel. Cheese shops, wine shops, fresh seafood, meats and mo\n",
              "5 You are within walking distance to the Louvre, Notre Dame, Le Marais, Les Halles, Chatelet, St. Germain, Les Tuileries, le Jardin des Plantes, St. Michel, Sorbonne, Institut du Monde Arab, the Bastille and the Latin Quarter.                                                                                                                                                                                                                                                                                                                                                                                                                                                                                                                                                                                                                                                                                                                                                                                                          \n",
              "6                                                                                                                                                                                                                                                                                                                                                                                                                                                                                                                                                                                                                                                                                                                                                                                                                                                                                                                                                                                                                                           \n",
              "  picture_url                                                              \n",
              "1 https://a0.muscache.com/pictures/09da057c-0120-4d5c-b464-d95c75921dde.jpg\n",
              "2 https://a0.muscache.com/pictures/baeae9e2-cd53-4ac3-b1bc-4055c0bb2e77.jpg\n",
              "3 https://a0.muscache.com/pictures/395578/e7f46d40_original.jpg            \n",
              "4 https://a0.muscache.com/pictures/b144894f-bc55-410b-87ce-60009f06ce1e.jpg\n",
              "5 https://a0.muscache.com/pictures/52413/f9bf76f5_original.jpg             \n",
              "6 https://a0.muscache.com/pictures/67928287/330bd78c_original.jpg          \n",
              "  host_id host_url                               ⋯ review_scores_communication\n",
              "1 2827    https://www.airbnb.com/users/show/2827 ⋯ 10                         \n",
              "2 3631    https://www.airbnb.com/users/show/3631 ⋯ 10                         \n",
              "3 6792    https://www.airbnb.com/users/show/6792 ⋯  9                         \n",
              "4 6792    https://www.airbnb.com/users/show/6792 ⋯ 10                         \n",
              "5 7903    https://www.airbnb.com/users/show/7903 ⋯ 10                         \n",
              "6 2626    https://www.airbnb.com/users/show/2626 ⋯ 10                         \n",
              "  review_scores_location review_scores_value license       instant_bookable\n",
              "1 10                     10                                t               \n",
              "2 10                     10                                f               \n",
              "3 10                      9                  7511101570436 f               \n",
              "4 10                     10                                t               \n",
              "5 10                      8                  7510402838018 f               \n",
              "6 10                     10                  7510400829623 f               \n",
              "  calculated_host_listings_count calculated_host_listings_count_entire_homes\n",
              "1  1                              1                                         \n",
              "2  1                              1                                         \n",
              "3 11                             11                                         \n",
              "4 11                             11                                         \n",
              "5  1                              1                                         \n",
              "6  1                              1                                         \n",
              "  calculated_host_listings_count_private_rooms\n",
              "1 0                                           \n",
              "2 0                                           \n",
              "3 0                                           \n",
              "4 0                                           \n",
              "5 0                                           \n",
              "6 0                                           \n",
              "  calculated_host_listings_count_shared_rooms reviews_per_month\n",
              "1 0                                           0.05             \n",
              "2 0                                           0.19             \n",
              "3 0                                           0.18             \n",
              "4 0                                           0.21             \n",
              "5 0                                           1.64             \n",
              "6 0                                           2.32             "
            ],
            "text/latex": "A data.table: 6 × 74\n\\begin{tabular}{lllllllllllllllllllll}\n id & listing\\_url & scrape\\_id & last\\_scraped & name & description & neighborhood\\_overview & picture\\_url & host\\_id & host\\_url & ⋯ & review\\_scores\\_communication & review\\_scores\\_location & review\\_scores\\_value & license & instant\\_bookable & calculated\\_host\\_listings\\_count & calculated\\_host\\_listings\\_count\\_entire\\_homes & calculated\\_host\\_listings\\_count\\_private\\_rooms & calculated\\_host\\_listings\\_count\\_shared\\_rooms & reviews\\_per\\_month\\\\\n <int> & <chr> & <int64> & <date> & <chr> & <chr> & <chr> & <chr> & <int> & <chr> & ⋯ & <int> & <int> & <int> & <chr> & <chr> & <int> & <int> & <int> & <int> & <dbl>\\\\\n\\hline\n\t 2577 & https://www.airbnb.com/rooms/2577 & 20201012032825 & 2020-10-19 & Loft for 4 by Canal Saint Martin                 & 100 m2 loft (1100 sq feet) with high ceiling, open modern kitchen, cable tv, wifi, sleeping space up to 5 people, Republique area, 5 minutes from the St Martin Canal, Marais area, 10 min from Chatelet and the Louvre.<br /><br /><b>The space</b><br />The district has any service or shop you may desire at a walking distance, many restaurants and clubs as well. <br />I will be pleased to suggest our best addresses and give you directions to have a very enjoyable journey. <br />We have 1 separated bedroom and one mezzanine for the second bed. One bathroom is \"\"en suite\"\" to the main bedroom. <br />Welcome to our beautiful loft!<br />Karine                                                                                                                                                                                                                                                                                                                                                                      &                                                                                                                                                                                                                                                                                                                                                                                                                                                                                                                                                                                                                                                                                                                                                                                                                                                                                                                                                                                                                                            & https://a0.muscache.com/pictures/09da057c-0120-4d5c-b464-d95c75921dde.jpg & 2827 & https://www.airbnb.com/users/show/2827 & ⋯ & 10 & 10 & 10 &               & t &  1 &  1 & 0 & 0 & 0.05\\\\\n\t 3109 & https://www.airbnb.com/rooms/3109 & 20201012032825 & 2020-10-18 & zen and calm                                     & <b>The space</b><br />I bedroom appartment in Paris 14                                                                                                                                                                                                                                                                                                                                                                                                                                                                                                                                                                                                                                                                                                                                                                                                                                                                                                                                                                                   & Good restaurants<br />very close the Montparnasse Station<br />15 m from the center of Paris                                                                                                                                                                                                                                                                                                                                                                                                                                                                                                                                                                                                                                                                                                                                                                                                                                                                                                                                               & https://a0.muscache.com/pictures/baeae9e2-cd53-4ac3-b1bc-4055c0bb2e77.jpg & 3631 & https://www.airbnb.com/users/show/3631 & ⋯ & 10 & 10 & 10 &               & f &  1 &  1 & 0 & 0 & 0.19\\\\\n\t 4886 & https://www.airbnb.com/rooms/4886 & 20201012032825 & 2020-10-18 & Country-Style Studio Hip Area FREE CRUISE \\& WIFI & Bright and Cozy Studio Apartment for  2 Guests. Enjoy Great Authentic and Central Location near Canal St Martin and Republique. Historic Building with Elevator. <br />Outdoor Market a block away. Steps to Trendy Rue Oberkampf \\& Hip Canal St Martin. Minutes to the Marais District or Bastille.  2 Free Ricer Cruise Tix !<br /><br /><b>The space</b><br />2 Free River Cruise Tix with your booking !  Mention this offer with your booking. <br /><br />Studio la Fontaine is a well-equipped country-style 15 sq. meter studio apartment that has a warm and cozy feel. It can sleep up to 2 guests.<br /><br />Located in one of the most loved neighborhoods by hip Parisians and those in the know.  <br />Trendy area with many funky shops, well-regarded restaurants and innovative art galleries.<br /><br />Fully furnished and stylishly decorated, this apartment is located in a historic building built in the 18th century with elevator.<br /><br />Located on a very pretty square, your window looks out over t & 2 Free River Cruise Tix with your booking !  Mention this offer with your booking.<br /><br />Located on lively Rue Jean Pierre Timbaud in the same building as the famous restaurant \"\"Astier\"\". The street has many authentic restaurants, markets, cafes and bistros to choose from.<br /><br />Located in the 11th Arrondissement (district) on the border of the 3rd, which is the beautiful and fashionable Marais neighborhood.<br />You will be walking distance to all the shopping, cafes, restaurants and museums that\"\" Le Marais\"\" has to offer.<br /><br />The Canal St Martin is only three minutes away and it is a shady and cool place to relax on a hot summer day with a book and a baguette. Made famous in the movie Amelie, you can see where she skipped stones across the water to relax.<br /><br />You are a 30 minute walk from Notre Dame Cathedral, Isle Saint Louis, the Louvre and the entire heart of Paris. Or take the metro and be there within 10 minutes.                                            & https://a0.muscache.com/pictures/395578/e7f46d40\\_original.jpg             & 6792 & https://www.airbnb.com/users/show/6792 & ⋯ &  9 & 10 &  9 & 7511101570436 & f & 11 & 11 & 0 & 0 & 0.18\\\\\n\t 4890 & https://www.airbnb.com/rooms/4890 & 20201012032825 & 2020-10-14 & Quiet Historic \\& Cute  +Free Cruise              & Stylish \\& Classic One bedroom apartment for up to 4 guests. Newly Renovated Fully Equipped Kitchen that is a Chefs Delight! Trendy North Marais Location, walk to Notre-Dame in minutes. 1 Block from Rue De Bretagne Market Street + 2 Free River Cruise!<br /><br /><b>The space</b><br />2 Free River Cruise Tix with your booking !  Mention this offer with your booking.<br /><br />Le Jardin Du Marais is a classically furnished 35 sq.meter one bedroom apartment, that can welcome up to 4 guests.<br /><br />With exposed ancient ceiling beams, hardwood floor and stylish decor, mixing modern design with gold gilded mirrors, Le Jardin Du Marais is a welcoming respite in the city.<br /><br />Located just off Rue Du Temple, walk to the heart of Paris in minutes. A short walk to Hotel De Ville, the River Seine, the Central Islands, Notre-Dame Cathedral and more, you are in the heart of it all.<br /><br />Enjoy local Rue De Bretagne a block away for authentic gourmet shops. Bakeries, cheese shops, but & Called \"\"Paris Next Great Neighborhood\"\" from Travel and Leisure Magazine, the 3rd Arrondissement or the Haut Marais is The Place to be in Paris.<br />Le Marais is a historic district in Paris. Long the aristocratic district of Paris, it hosts many outstanding buildings of historic and architectural importance. It spreads across parts of the 3rd and 4th arrondissements in Paris.<br />The Marais is now one of Paris' main localities for art galleries. Following its rehabilitation, the Marais has become a fashionable district, home to many trendy restaurants, fashion houses, and hip galleries.<br />Other features of the neighbourhood include the Musée Picasso, the house of Nicolas Flamel, the Musée Cognacq-Jay, the Musée Carnavalet and the new and very popular Café Charlot.<br />The Haut Marais is the Northern Part of the District, bordering on Place De La Republique, featuring Rue De Bretagne, a market street that offers a village feel. Cheese shops, wine shops, fresh seafood, meats and mo & https://a0.muscache.com/pictures/b144894f-bc55-410b-87ce-60009f06ce1e.jpg & 6792 & https://www.airbnb.com/users/show/6792 & ⋯ & 10 & 10 & 10 &               & t & 11 & 11 & 0 & 0 & 0.21\\\\\n\t 5396 & https://www.airbnb.com/rooms/5396 & 20201012032825 & 2020-10-15 & Explore the heart of old Paris                   & Cozy, well-appointed and graciously designed studio apartment that mixes old and new aesthetics at the very heart of Paris, on the famous Isle St Louis that is a stone's throw from Le Marais, Quartier Latin, Notre Dame and Le Louvre.<br /><br /><b>The space</b><br />Small, well appointed studio apartment at the very heart of Paris, on the famous Isle St Louis.<br /><br />FOUR-NIGHT MINIMUM. <br /><br />We are looking for quiet persons or couples to rent our fully equipped and furnished studio (about 30 square meters or 300 square feet) in central Paris on the famous Isle St. Louis. Please contact us for more information. Discounts available for longer stays.<br /><br />The location is superb. Pick up fresh bread at the nearby boulangerie and some exquisite cheese at the local fromagerie for breakfast. Take a late night stroll along the nearby Seine. Bar hop in the adjacent Marais district, the East Village of Paris.<br /><br /><b>Guest access</b><br />The flat includes its own modern b & You are within walking distance to the Louvre, Notre Dame, Le Marais, Les Halles, Chatelet, St. Germain, Les Tuileries, le Jardin des Plantes, St. Michel, Sorbonne, Institut du Monde Arab, the Bastille and the Latin Quarter.                                                                                                                                                                                                                                                                                                                                                                                                                                                                                                                                                                                                                                                                                                                                                                                                           & https://a0.muscache.com/pictures/52413/f9bf76f5\\_original.jpg              & 7903 & https://www.airbnb.com/users/show/7903 & ⋯ & 10 & 10 &  8 & 7510402838018 & f &  1 &  1 & 0 & 0 & 1.64\\\\\n\t 7397 & https://www.airbnb.com/rooms/7397 & 20201012032825 & 2020-10-16 & MARAIS - 2ROOMS APT - 2/4 PEOPLE                 & VERY CONVENIENT, WITH THE BEST LOCATION !<br /><br /><b>The space</b><br />PLEASE ASK ME BEFORE TO MAKE A REQUEST !!!<br /><br />No check-in hour: I do my best !<br /><br /><br />HEART OF THE HISTORICAL PARIS<br /><br /> Marais, in a securated and classified building, 2d floor, charming 2/3Rooms apt 40 m2, Ideal location in the very heart of historical Paris, metro station: Hôtel-de-Ville, just a few minutes on foot to the Centre Pompidou, Place des Vosges, the Seine River, Notre-Dame Cathedral, the Saint-Louis island... and most of the monuments and museums in Paris. Local restaurants and shops cater to all tastes and budgets. Very charming, quiet, sunny, fully furnished, two bedrooms (one with a large bed, the other with a large and very good sofa/bed), Large bathroom with italian shower. Internet+tel+TV included. Electricity included for normal using. Perfect for one couple, two couples or one couple with one or two children.<br />The apart, at the second floor without lift, reveals &                                                                                                                                                                                                                                                                                                                                                                                                                                                                                                                                                                                                                                                                                                                                                                                                                                                                                                                                                                                                                                            & https://a0.muscache.com/pictures/67928287/330bd78c\\_original.jpg           & 2626 & https://www.airbnb.com/users/show/2626 & ⋯ & 10 & 10 & 10 & 7510400829623 & f &  1 &  1 & 0 & 0 & 2.32\\\\\n\\end{tabular}\n",
            "text/markdown": "\nA data.table: 6 × 74\n\n| id &lt;int&gt; | listing_url &lt;chr&gt; | scrape_id &lt;int64&gt; | last_scraped &lt;date&gt; | name &lt;chr&gt; | description &lt;chr&gt; | neighborhood_overview &lt;chr&gt; | picture_url &lt;chr&gt; | host_id &lt;int&gt; | host_url &lt;chr&gt; | ⋯ ⋯ | review_scores_communication &lt;int&gt; | review_scores_location &lt;int&gt; | review_scores_value &lt;int&gt; | license &lt;chr&gt; | instant_bookable &lt;chr&gt; | calculated_host_listings_count &lt;int&gt; | calculated_host_listings_count_entire_homes &lt;int&gt; | calculated_host_listings_count_private_rooms &lt;int&gt; | calculated_host_listings_count_shared_rooms &lt;int&gt; | reviews_per_month &lt;dbl&gt; |\n|---|---|---|---|---|---|---|---|---|---|---|---|---|---|---|---|---|---|---|---|---|\n| 2577 | https://www.airbnb.com/rooms/2577 | 20201012032825 | 2020-10-19 | Loft for 4 by Canal Saint Martin                 | 100 m2 loft (1100 sq feet) with high ceiling, open modern kitchen, cable tv, wifi, sleeping space up to 5 people, Republique area, 5 minutes from the St Martin Canal, Marais area, 10 min from Chatelet and the Louvre.&lt;br /&gt;&lt;br /&gt;&lt;b&gt;The space&lt;/b&gt;&lt;br /&gt;The district has any service or shop you may desire at a walking distance, many restaurants and clubs as well. &lt;br /&gt;I will be pleased to suggest our best addresses and give you directions to have a very enjoyable journey. &lt;br /&gt;We have 1 separated bedroom and one mezzanine for the second bed. One bathroom is \"\"en suite\"\" to the main bedroom. &lt;br /&gt;Welcome to our beautiful loft!&lt;br /&gt;Karine                                                                                                                                                                                                                                                                                                                                                                      | <!----> | https://a0.muscache.com/pictures/09da057c-0120-4d5c-b464-d95c75921dde.jpg | 2827 | https://www.airbnb.com/users/show/2827 | ⋯ | 10 | 10 | 10 | <!----> | t |  1 |  1 | 0 | 0 | 0.05 |\n| 3109 | https://www.airbnb.com/rooms/3109 | 20201012032825 | 2020-10-18 | zen and calm                                     | &lt;b&gt;The space&lt;/b&gt;&lt;br /&gt;I bedroom appartment in Paris 14                                                                                                                                                                                                                                                                                                                                                                                                                                                                                                                                                                                                                                                                                                                                                                                                                                                                                                                                                                                   | Good restaurants&lt;br /&gt;very close the Montparnasse Station&lt;br /&gt;15 m from the center of Paris                                                                                                                                                                                                                                                                                                                                                                                                                                                                                                                                                                                                                                                                                                                                                                                                                                                                                                                                               | https://a0.muscache.com/pictures/baeae9e2-cd53-4ac3-b1bc-4055c0bb2e77.jpg | 3631 | https://www.airbnb.com/users/show/3631 | ⋯ | 10 | 10 | 10 | <!----> | f |  1 |  1 | 0 | 0 | 0.19 |\n| 4886 | https://www.airbnb.com/rooms/4886 | 20201012032825 | 2020-10-18 | Country-Style Studio Hip Area FREE CRUISE &amp; WIFI | Bright and Cozy Studio Apartment for  2 Guests. Enjoy Great Authentic and Central Location near Canal St Martin and Republique. Historic Building with Elevator. &lt;br /&gt;Outdoor Market a block away. Steps to Trendy Rue Oberkampf &amp; Hip Canal St Martin. Minutes to the Marais District or Bastille.  2 Free Ricer Cruise Tix !&lt;br /&gt;&lt;br /&gt;&lt;b&gt;The space&lt;/b&gt;&lt;br /&gt;2 Free River Cruise Tix with your booking !  Mention this offer with your booking. &lt;br /&gt;&lt;br /&gt;Studio la Fontaine is a well-equipped country-style 15 sq. meter studio apartment that has a warm and cozy feel. It can sleep up to 2 guests.&lt;br /&gt;&lt;br /&gt;Located in one of the most loved neighborhoods by hip Parisians and those in the know.  &lt;br /&gt;Trendy area with many funky shops, well-regarded restaurants and innovative art galleries.&lt;br /&gt;&lt;br /&gt;Fully furnished and stylishly decorated, this apartment is located in a historic building built in the 18th century with elevator.&lt;br /&gt;&lt;br /&gt;Located on a very pretty square, your window looks out over t | 2 Free River Cruise Tix with your booking !  Mention this offer with your booking.&lt;br /&gt;&lt;br /&gt;Located on lively Rue Jean Pierre Timbaud in the same building as the famous restaurant \"\"Astier\"\". The street has many authentic restaurants, markets, cafes and bistros to choose from.&lt;br /&gt;&lt;br /&gt;Located in the 11th Arrondissement (district) on the border of the 3rd, which is the beautiful and fashionable Marais neighborhood.&lt;br /&gt;You will be walking distance to all the shopping, cafes, restaurants and museums that\"\" Le Marais\"\" has to offer.&lt;br /&gt;&lt;br /&gt;The Canal St Martin is only three minutes away and it is a shady and cool place to relax on a hot summer day with a book and a baguette. Made famous in the movie Amelie, you can see where she skipped stones across the water to relax.&lt;br /&gt;&lt;br /&gt;You are a 30 minute walk from Notre Dame Cathedral, Isle Saint Louis, the Louvre and the entire heart of Paris. Or take the metro and be there within 10 minutes.                                            | https://a0.muscache.com/pictures/395578/e7f46d40_original.jpg             | 6792 | https://www.airbnb.com/users/show/6792 | ⋯ |  9 | 10 |  9 | 7511101570436 | f | 11 | 11 | 0 | 0 | 0.18 |\n| 4890 | https://www.airbnb.com/rooms/4890 | 20201012032825 | 2020-10-14 | Quiet Historic &amp; Cute  +Free Cruise              | Stylish &amp; Classic One bedroom apartment for up to 4 guests. Newly Renovated Fully Equipped Kitchen that is a Chefs Delight! Trendy North Marais Location, walk to Notre-Dame in minutes. 1 Block from Rue De Bretagne Market Street + 2 Free River Cruise!&lt;br /&gt;&lt;br /&gt;&lt;b&gt;The space&lt;/b&gt;&lt;br /&gt;2 Free River Cruise Tix with your booking !  Mention this offer with your booking.&lt;br /&gt;&lt;br /&gt;Le Jardin Du Marais is a classically furnished 35 sq.meter one bedroom apartment, that can welcome up to 4 guests.&lt;br /&gt;&lt;br /&gt;With exposed ancient ceiling beams, hardwood floor and stylish decor, mixing modern design with gold gilded mirrors, Le Jardin Du Marais is a welcoming respite in the city.&lt;br /&gt;&lt;br /&gt;Located just off Rue Du Temple, walk to the heart of Paris in minutes. A short walk to Hotel De Ville, the River Seine, the Central Islands, Notre-Dame Cathedral and more, you are in the heart of it all.&lt;br /&gt;&lt;br /&gt;Enjoy local Rue De Bretagne a block away for authentic gourmet shops. Bakeries, cheese shops, but | Called \"\"Paris Next Great Neighborhood\"\" from Travel and Leisure Magazine, the 3rd Arrondissement or the Haut Marais is The Place to be in Paris.&lt;br /&gt;Le Marais is a historic district in Paris. Long the aristocratic district of Paris, it hosts many outstanding buildings of historic and architectural importance. It spreads across parts of the 3rd and 4th arrondissements in Paris.&lt;br /&gt;The Marais is now one of Paris' main localities for art galleries. Following its rehabilitation, the Marais has become a fashionable district, home to many trendy restaurants, fashion houses, and hip galleries.&lt;br /&gt;Other features of the neighbourhood include the Musée Picasso, the house of Nicolas Flamel, the Musée Cognacq-Jay, the Musée Carnavalet and the new and very popular Café Charlot.&lt;br /&gt;The Haut Marais is the Northern Part of the District, bordering on Place De La Republique, featuring Rue De Bretagne, a market street that offers a village feel. Cheese shops, wine shops, fresh seafood, meats and mo | https://a0.muscache.com/pictures/b144894f-bc55-410b-87ce-60009f06ce1e.jpg | 6792 | https://www.airbnb.com/users/show/6792 | ⋯ | 10 | 10 | 10 | <!----> | t | 11 | 11 | 0 | 0 | 0.21 |\n| 5396 | https://www.airbnb.com/rooms/5396 | 20201012032825 | 2020-10-15 | Explore the heart of old Paris                   | Cozy, well-appointed and graciously designed studio apartment that mixes old and new aesthetics at the very heart of Paris, on the famous Isle St Louis that is a stone's throw from Le Marais, Quartier Latin, Notre Dame and Le Louvre.&lt;br /&gt;&lt;br /&gt;&lt;b&gt;The space&lt;/b&gt;&lt;br /&gt;Small, well appointed studio apartment at the very heart of Paris, on the famous Isle St Louis.&lt;br /&gt;&lt;br /&gt;FOUR-NIGHT MINIMUM. &lt;br /&gt;&lt;br /&gt;We are looking for quiet persons or couples to rent our fully equipped and furnished studio (about 30 square meters or 300 square feet) in central Paris on the famous Isle St. Louis. Please contact us for more information. Discounts available for longer stays.&lt;br /&gt;&lt;br /&gt;The location is superb. Pick up fresh bread at the nearby boulangerie and some exquisite cheese at the local fromagerie for breakfast. Take a late night stroll along the nearby Seine. Bar hop in the adjacent Marais district, the East Village of Paris.&lt;br /&gt;&lt;br /&gt;&lt;b&gt;Guest access&lt;/b&gt;&lt;br /&gt;The flat includes its own modern b | You are within walking distance to the Louvre, Notre Dame, Le Marais, Les Halles, Chatelet, St. Germain, Les Tuileries, le Jardin des Plantes, St. Michel, Sorbonne, Institut du Monde Arab, the Bastille and the Latin Quarter.                                                                                                                                                                                                                                                                                                                                                                                                                                                                                                                                                                                                                                                                                                                                                                                                           | https://a0.muscache.com/pictures/52413/f9bf76f5_original.jpg              | 7903 | https://www.airbnb.com/users/show/7903 | ⋯ | 10 | 10 |  8 | 7510402838018 | f |  1 |  1 | 0 | 0 | 1.64 |\n| 7397 | https://www.airbnb.com/rooms/7397 | 20201012032825 | 2020-10-16 | MARAIS - 2ROOMS APT - 2/4 PEOPLE                 | VERY CONVENIENT, WITH THE BEST LOCATION !&lt;br /&gt;&lt;br /&gt;&lt;b&gt;The space&lt;/b&gt;&lt;br /&gt;PLEASE ASK ME BEFORE TO MAKE A REQUEST !!!&lt;br /&gt;&lt;br /&gt;No check-in hour: I do my best !&lt;br /&gt;&lt;br /&gt;&lt;br /&gt;HEART OF THE HISTORICAL PARIS&lt;br /&gt;&lt;br /&gt; Marais, in a securated and classified building, 2d floor, charming 2/3Rooms apt 40 m2, Ideal location in the very heart of historical Paris, metro station: Hôtel-de-Ville, just a few minutes on foot to the Centre Pompidou, Place des Vosges, the Seine River, Notre-Dame Cathedral, the Saint-Louis island... and most of the monuments and museums in Paris. Local restaurants and shops cater to all tastes and budgets. Very charming, quiet, sunny, fully furnished, two bedrooms (one with a large bed, the other with a large and very good sofa/bed), Large bathroom with italian shower. Internet+tel+TV included. Electricity included for normal using. Perfect for one couple, two couples or one couple with one or two children.&lt;br /&gt;The apart, at the second floor without lift, reveals | <!----> | https://a0.muscache.com/pictures/67928287/330bd78c_original.jpg           | 2626 | https://www.airbnb.com/users/show/2626 | ⋯ | 10 | 10 | 10 | 7510400829623 | f |  1 |  1 | 0 | 0 | 2.32 |\n\n",
            "text/html": [
              "<table>\n",
              "<caption>A data.table: 6 × 74</caption>\n",
              "<thead>\n",
              "\t<tr><th scope=col>id</th><th scope=col>listing_url</th><th scope=col>scrape_id</th><th scope=col>last_scraped</th><th scope=col>name</th><th scope=col>description</th><th scope=col>neighborhood_overview</th><th scope=col>picture_url</th><th scope=col>host_id</th><th scope=col>host_url</th><th scope=col>⋯</th><th scope=col>review_scores_communication</th><th scope=col>review_scores_location</th><th scope=col>review_scores_value</th><th scope=col>license</th><th scope=col>instant_bookable</th><th scope=col>calculated_host_listings_count</th><th scope=col>calculated_host_listings_count_entire_homes</th><th scope=col>calculated_host_listings_count_private_rooms</th><th scope=col>calculated_host_listings_count_shared_rooms</th><th scope=col>reviews_per_month</th></tr>\n",
              "\t<tr><th scope=col>&lt;int&gt;</th><th scope=col>&lt;chr&gt;</th><th scope=col>&lt;int64&gt;</th><th scope=col>&lt;date&gt;</th><th scope=col>&lt;chr&gt;</th><th scope=col>&lt;chr&gt;</th><th scope=col>&lt;chr&gt;</th><th scope=col>&lt;chr&gt;</th><th scope=col>&lt;int&gt;</th><th scope=col>&lt;chr&gt;</th><th scope=col>⋯</th><th scope=col>&lt;int&gt;</th><th scope=col>&lt;int&gt;</th><th scope=col>&lt;int&gt;</th><th scope=col>&lt;chr&gt;</th><th scope=col>&lt;chr&gt;</th><th scope=col>&lt;int&gt;</th><th scope=col>&lt;int&gt;</th><th scope=col>&lt;int&gt;</th><th scope=col>&lt;int&gt;</th><th scope=col>&lt;dbl&gt;</th></tr>\n",
              "</thead>\n",
              "<tbody>\n",
              "\t<tr><td>2577</td><td>https://www.airbnb.com/rooms/2577</td><td>20201012032825</td><td>2020-10-19</td><td><span style=white-space:pre-wrap>Loft for 4 by Canal Saint Martin                </span></td><td><span style=white-space:pre-wrap>100 m2 loft (1100 sq feet) with high ceiling, open modern kitchen, cable tv, wifi, sleeping space up to 5 people, Republique area, 5 minutes from the St Martin Canal, Marais area, 10 min from Chatelet and the Louvre.&lt;br /&gt;&lt;br /&gt;&lt;b&gt;The space&lt;/b&gt;&lt;br /&gt;The district has any service or shop you may desire at a walking distance, many restaurants and clubs as well. &lt;br /&gt;I will be pleased to suggest our best addresses and give you directions to have a very enjoyable journey. &lt;br /&gt;We have 1 separated bedroom and one mezzanine for the second bed. One bathroom is \"\"en suite\"\" to the main bedroom. &lt;br /&gt;Welcome to our beautiful loft!&lt;br /&gt;Karine                                                                                                                                                                                                                                                                                                                                                                     </span></td><td><span style=white-space:pre-wrap>                                                                                                                                                                                                                                                                                                                                                                                                                                                                                                                                                                                                                                                                                                                                                                                                                                                                                                                                                                                                                                          </span></td><td>https://a0.muscache.com/pictures/09da057c-0120-4d5c-b464-d95c75921dde.jpg</td><td>2827</td><td>https://www.airbnb.com/users/show/2827</td><td>⋯</td><td>10</td><td>10</td><td>10</td><td><span style=white-space:pre-wrap>             </span></td><td>t</td><td> 1</td><td> 1</td><td>0</td><td>0</td><td>0.05</td></tr>\n",
              "\t<tr><td>3109</td><td>https://www.airbnb.com/rooms/3109</td><td>20201012032825</td><td>2020-10-18</td><td><span style=white-space:pre-wrap>zen and calm                                    </span></td><td><span style=white-space:pre-wrap>&lt;b&gt;The space&lt;/b&gt;&lt;br /&gt;I bedroom appartment in Paris 14                                                                                                                                                                                                                                                                                                                                                                                                                                                                                                                                                                                                                                                                                                                                                                                                                                                                                                                                                                                  </span></td><td><span style=white-space:pre-wrap>Good restaurants&lt;br /&gt;very close the Montparnasse Station&lt;br /&gt;15 m from the center of Paris                                                                                                                                                                                                                                                                                                                                                                                                                                                                                                                                                                                                                                                                                                                                                                                                                                                                                                                                              </span></td><td>https://a0.muscache.com/pictures/baeae9e2-cd53-4ac3-b1bc-4055c0bb2e77.jpg</td><td>3631</td><td>https://www.airbnb.com/users/show/3631</td><td>⋯</td><td>10</td><td>10</td><td>10</td><td><span style=white-space:pre-wrap>             </span></td><td>f</td><td> 1</td><td> 1</td><td>0</td><td>0</td><td>0.19</td></tr>\n",
              "\t<tr><td>4886</td><td>https://www.airbnb.com/rooms/4886</td><td>20201012032825</td><td>2020-10-18</td><td>Country-Style Studio Hip Area FREE CRUISE &amp; WIFI</td><td><span style=white-space:pre-wrap>Bright and Cozy Studio Apartment for  2 Guests. Enjoy Great Authentic and Central Location near Canal St Martin and Republique. Historic Building with Elevator. &lt;br /&gt;Outdoor Market a block away. Steps to Trendy Rue Oberkampf &amp; Hip Canal St Martin. Minutes to the Marais District or Bastille.  2 Free Ricer Cruise Tix !&lt;br /&gt;&lt;br /&gt;&lt;b&gt;The space&lt;/b&gt;&lt;br /&gt;2 Free River Cruise Tix with your booking !  Mention this offer with your booking. &lt;br /&gt;&lt;br /&gt;Studio la Fontaine is a well-equipped country-style 15 sq. meter studio apartment that has a warm and cozy feel. It can sleep up to 2 guests.&lt;br /&gt;&lt;br /&gt;Located in one of the most loved neighborhoods by hip Parisians and those in the know.  &lt;br /&gt;Trendy area with many funky shops, well-regarded restaurants and innovative art galleries.&lt;br /&gt;&lt;br /&gt;Fully furnished and stylishly decorated, this apartment is located in a historic building built in the 18th century with elevator.&lt;br /&gt;&lt;br /&gt;Located on a very pretty square, your window looks out over t</span></td><td><span style=white-space:pre-wrap>2 Free River Cruise Tix with your booking !  Mention this offer with your booking.&lt;br /&gt;&lt;br /&gt;Located on lively Rue Jean Pierre Timbaud in the same building as the famous restaurant \"\"Astier\"\". The street has many authentic restaurants, markets, cafes and bistros to choose from.&lt;br /&gt;&lt;br /&gt;Located in the 11th Arrondissement (district) on the border of the 3rd, which is the beautiful and fashionable Marais neighborhood.&lt;br /&gt;You will be walking distance to all the shopping, cafes, restaurants and museums that\"\" Le Marais\"\" has to offer.&lt;br /&gt;&lt;br /&gt;The Canal St Martin is only three minutes away and it is a shady and cool place to relax on a hot summer day with a book and a baguette. Made famous in the movie Amelie, you can see where she skipped stones across the water to relax.&lt;br /&gt;&lt;br /&gt;You are a 30 minute walk from Notre Dame Cathedral, Isle Saint Louis, the Louvre and the entire heart of Paris. Or take the metro and be there within 10 minutes.                                           </span></td><td><span style=white-space:pre-wrap>https://a0.muscache.com/pictures/395578/e7f46d40_original.jpg            </span></td><td>6792</td><td>https://www.airbnb.com/users/show/6792</td><td>⋯</td><td> 9</td><td>10</td><td> 9</td><td>7511101570436</td><td>f</td><td>11</td><td>11</td><td>0</td><td>0</td><td>0.18</td></tr>\n",
              "\t<tr><td>4890</td><td>https://www.airbnb.com/rooms/4890</td><td>20201012032825</td><td>2020-10-14</td><td><span style=white-space:pre-wrap>Quiet Historic &amp; Cute  +Free Cruise             </span></td><td><span style=white-space:pre-wrap>Stylish &amp; Classic One bedroom apartment for up to 4 guests. Newly Renovated Fully Equipped Kitchen that is a Chefs Delight! Trendy North Marais Location, walk to Notre-Dame in minutes. 1 Block from Rue De Bretagne Market Street + 2 Free River Cruise!&lt;br /&gt;&lt;br /&gt;&lt;b&gt;The space&lt;/b&gt;&lt;br /&gt;2 Free River Cruise Tix with your booking !  Mention this offer with your booking.&lt;br /&gt;&lt;br /&gt;Le Jardin Du Marais is a classically furnished 35 sq.meter one bedroom apartment, that can welcome up to 4 guests.&lt;br /&gt;&lt;br /&gt;With exposed ancient ceiling beams, hardwood floor and stylish decor, mixing modern design with gold gilded mirrors, Le Jardin Du Marais is a welcoming respite in the city.&lt;br /&gt;&lt;br /&gt;Located just off Rue Du Temple, walk to the heart of Paris in minutes. A short walk to Hotel De Ville, the River Seine, the Central Islands, Notre-Dame Cathedral and more, you are in the heart of it all.&lt;br /&gt;&lt;br /&gt;Enjoy local Rue De Bretagne a block away for authentic gourmet shops. Bakeries, cheese shops, but</span></td><td>Called \"\"Paris Next Great Neighborhood\"\" from Travel and Leisure Magazine, the 3rd Arrondissement or the Haut Marais is The Place to be in Paris.&lt;br /&gt;Le Marais is a historic district in Paris. Long the aristocratic district of Paris, it hosts many outstanding buildings of historic and architectural importance. It spreads across parts of the 3rd and 4th arrondissements in Paris.&lt;br /&gt;The Marais is now one of Paris' main localities for art galleries. Following its rehabilitation, the Marais has become a fashionable district, home to many trendy restaurants, fashion houses, and hip galleries.&lt;br /&gt;Other features of the neighbourhood include the Musée Picasso, the house of Nicolas Flamel, the Musée Cognacq-Jay, the Musée Carnavalet and the new and very popular Café Charlot.&lt;br /&gt;The Haut Marais is the Northern Part of the District, bordering on Place De La Republique, featuring Rue De Bretagne, a market street that offers a village feel. Cheese shops, wine shops, fresh seafood, meats and mo</td><td>https://a0.muscache.com/pictures/b144894f-bc55-410b-87ce-60009f06ce1e.jpg</td><td>6792</td><td>https://www.airbnb.com/users/show/6792</td><td>⋯</td><td>10</td><td>10</td><td>10</td><td><span style=white-space:pre-wrap>             </span></td><td>t</td><td>11</td><td>11</td><td>0</td><td>0</td><td>0.21</td></tr>\n",
              "\t<tr><td>5396</td><td>https://www.airbnb.com/rooms/5396</td><td>20201012032825</td><td>2020-10-15</td><td><span style=white-space:pre-wrap>Explore the heart of old Paris                  </span></td><td>Cozy, well-appointed and graciously designed studio apartment that mixes old and new aesthetics at the very heart of Paris, on the famous Isle St Louis that is a stone's throw from Le Marais, Quartier Latin, Notre Dame and Le Louvre.&lt;br /&gt;&lt;br /&gt;&lt;b&gt;The space&lt;/b&gt;&lt;br /&gt;Small, well appointed studio apartment at the very heart of Paris, on the famous Isle St Louis.&lt;br /&gt;&lt;br /&gt;FOUR-NIGHT MINIMUM. &lt;br /&gt;&lt;br /&gt;We are looking for quiet persons or couples to rent our fully equipped and furnished studio (about 30 square meters or 300 square feet) in central Paris on the famous Isle St. Louis. Please contact us for more information. Discounts available for longer stays.&lt;br /&gt;&lt;br /&gt;The location is superb. Pick up fresh bread at the nearby boulangerie and some exquisite cheese at the local fromagerie for breakfast. Take a late night stroll along the nearby Seine. Bar hop in the adjacent Marais district, the East Village of Paris.&lt;br /&gt;&lt;br /&gt;&lt;b&gt;Guest access&lt;/b&gt;&lt;br /&gt;The flat includes its own modern b</td><td><span style=white-space:pre-wrap>You are within walking distance to the Louvre, Notre Dame, Le Marais, Les Halles, Chatelet, St. Germain, Les Tuileries, le Jardin des Plantes, St. Michel, Sorbonne, Institut du Monde Arab, the Bastille and the Latin Quarter.                                                                                                                                                                                                                                                                                                                                                                                                                                                                                                                                                                                                                                                                                                                                                                                                          </span></td><td><span style=white-space:pre-wrap>https://a0.muscache.com/pictures/52413/f9bf76f5_original.jpg             </span></td><td>7903</td><td>https://www.airbnb.com/users/show/7903</td><td>⋯</td><td>10</td><td>10</td><td> 8</td><td>7510402838018</td><td>f</td><td> 1</td><td> 1</td><td>0</td><td>0</td><td>1.64</td></tr>\n",
              "\t<tr><td>7397</td><td>https://www.airbnb.com/rooms/7397</td><td>20201012032825</td><td>2020-10-16</td><td><span style=white-space:pre-wrap>MARAIS - 2ROOMS APT - 2/4 PEOPLE                </span></td><td>VERY CONVENIENT, WITH THE BEST LOCATION !&lt;br /&gt;&lt;br /&gt;&lt;b&gt;The space&lt;/b&gt;&lt;br /&gt;PLEASE ASK ME BEFORE TO MAKE A REQUEST !!!&lt;br /&gt;&lt;br /&gt;No check-in hour: I do my best !&lt;br /&gt;&lt;br /&gt;&lt;br /&gt;HEART OF THE HISTORICAL PARIS&lt;br /&gt;&lt;br /&gt; Marais, in a securated and classified building, 2d floor, charming 2/3Rooms apt 40 m2, Ideal location in the very heart of historical Paris, metro station: Hôtel-de-Ville, just a few minutes on foot to the Centre Pompidou, Place des Vosges, the Seine River, Notre-Dame Cathedral, the Saint-Louis island... and most of the monuments and museums in Paris. Local restaurants and shops cater to all tastes and budgets. Very charming, quiet, sunny, fully furnished, two bedrooms (one with a large bed, the other with a large and very good sofa/bed), Large bathroom with italian shower. Internet+tel+TV included. Electricity included for normal using. Perfect for one couple, two couples or one couple with one or two children.&lt;br /&gt;The apart, at the second floor without lift, reveals</td><td><span style=white-space:pre-wrap>                                                                                                                                                                                                                                                                                                                                                                                                                                                                                                                                                                                                                                                                                                                                                                                                                                                                                                                                                                                                                                          </span></td><td><span style=white-space:pre-wrap>https://a0.muscache.com/pictures/67928287/330bd78c_original.jpg          </span></td><td>2626</td><td>https://www.airbnb.com/users/show/2626</td><td>⋯</td><td>10</td><td>10</td><td>10</td><td>7510400829623</td><td>f</td><td> 1</td><td> 1</td><td>0</td><td>0</td><td>2.32</td></tr>\n",
              "</tbody>\n",
              "</table>\n"
            ]
          },
          "metadata": {
            "tags": []
          }
        }
      ]
    },
    {
      "cell_type": "markdown",
      "metadata": {
        "id": "cGMfx6Yz09ZJ"
      },
      "source": [
        "# Je crée à nouveau des datasets de la partie 1 que nous utiliserons plus tard  lors de ces études quand nous joindrons les tables\r\n",
        "  "
      ]
    },
    {
      "cell_type": "code",
      "metadata": {
        "id": "FSazT4mj0few"
      },
      "source": [
        "#duplicons le dataset\r\n",
        "listings1 <- listings"
      ],
      "execution_count": null,
      "outputs": []
    },
    {
      "cell_type": "code",
      "metadata": {
        "colab": {
          "base_uri": "https://localhost:8080/",
          "height": 33
        },
        "id": "Hbi41nnHNkbM",
        "outputId": "7a85574e-1513-4721-fd92-dcc4ebb066e5"
      },
      "source": [
        "listings1$room_type<-as.factor(listings1$room_type)\r\n",
        "summary(listings1$room_type)"
      ],
      "execution_count": null,
      "outputs": [
        {
          "output_type": "display_data",
          "data": {
            "text/plain": [
              "Entire home/apt      Hotel room    Private room     Shared room \n",
              "          57184            1382            7359             409 "
            ],
            "text/latex": "\\begin{description*}\n\\item[Entire home/apt] 57184\n\\item[Hotel room] 1382\n\\item[Private room] 7359\n\\item[Shared room] 409\n\\end{description*}\n",
            "text/markdown": "Entire home/apt\n:   57184Hotel room\n:   1382Private room\n:   7359Shared room\n:   409\n\n",
            "text/html": [
              "<style>\n",
              ".dl-inline {width: auto; margin:0; padding: 0}\n",
              ".dl-inline>dt, .dl-inline>dd {float: none; width: auto; display: inline-block}\n",
              ".dl-inline>dt::after {content: \":\\0020\"; padding-right: .5ex}\n",
              ".dl-inline>dt:not(:first-of-type) {padding-left: .5ex}\n",
              "</style><dl class=dl-inline><dt>Entire home/apt</dt><dd>57184</dd><dt>Hotel room</dt><dd>1382</dd><dt>Private room</dt><dd>7359</dd><dt>Shared room</dt><dd>409</dd></dl>\n"
            ]
          },
          "metadata": {
            "tags": []
          }
        }
      ]
    },
    {
      "cell_type": "code",
      "metadata": {
        "id": "o9xJeZL5NwoG"
      },
      "source": [
        "listings1$property_type  <-  case_when(\r\n",
        "  grepl(\"apartment\", listings1$property_type) | grepl(\"apt\", listings1$property_type)  ~ \"Appartement\",\r\n",
        "   grepl(\"townhouse\", listings1$property_type) | grepl(\"Townhouse\", listings1$property_type) ~ \"Townhouse\",\r\n",
        "    grepl(\"house\", listings1$property_type) | grepl(\"place\", listings1$property_type) ~ \"House\",\r\n",
        "     grepl(\"bed and breakfast\", listings1$property_type)  ~ \"Bed and breakfast\",\r\n",
        "     grepl(\"loft\", listings1$property_type) | grepl(\"Loft\", listings1$property_type)  ~ \"Loft\",\r\n",
        "     grepl(\"condominium\", listings1$property_type) | grepl(\"Condominium\", listings1$property_type) ~ \"condominium\",\r\n",
        "     grepl(\"boat\", listings1$property_type) ~ \"Boat\",\r\n",
        "     grepl(\"guest suite\", listings1$property_type)| grepl(\"floor\", listings1$property_type) ~ \"Guest suite\",\r\n",
        "     grepl(\"hostel\", listings1$property_type) | grepl(\"hotel\", listings1$property_type)  ~ \"Hotel\",\r\n",
        "     \r\n",
        "     FALSE ~ \"Autre\"\r\n",
        ")"
      ],
      "execution_count": null,
      "outputs": []
    },
    {
      "cell_type": "code",
      "metadata": {
        "id": "1S-cMkwPN69E"
      },
      "source": [
        "#transformation de la variable property_type en factor\r\n",
        "listings1$property_type <- as.factor(listings1$property_type)"
      ],
      "execution_count": null,
      "outputs": []
    },
    {
      "cell_type": "code",
      "metadata": {
        "colab": {
          "base_uri": "https://localhost:8080/",
          "height": 141
        },
        "id": "5GhpYxtXOEGz",
        "outputId": "82a4bd2c-0a1b-4b3a-86a6-4f41b86629d7"
      },
      "source": [
        "table(listings1$property_type)"
      ],
      "execution_count": null,
      "outputs": [
        {
          "output_type": "display_data",
          "data": {
            "text/plain": [
              "\n",
              "      Appartement Bed and breakfast              Boat       condominium \n",
              "            59566               167                 9              2082 \n",
              "      Guest suite             Hotel             House              Loft \n",
              "               44              2236               658              1241 \n",
              "        Townhouse \n",
              "              244 "
            ]
          },
          "metadata": {
            "tags": []
          }
        }
      ]
    },
    {
      "cell_type": "code",
      "metadata": {
        "colab": {
          "base_uri": "https://localhost:8080/",
          "height": 150
        },
        "id": "H__E0odRDZ8o",
        "outputId": "64acdf56-5d46-417a-b503-b58e4723f7c8"
      },
      "source": [
        "colnames(listings1)"
      ],
      "execution_count": null,
      "outputs": [
        {
          "output_type": "display_data",
          "data": {
            "text/plain": [
              " [1] \"id\"                                          \n",
              " [2] \"listing_url\"                                 \n",
              " [3] \"scrape_id\"                                   \n",
              " [4] \"last_scraped\"                                \n",
              " [5] \"name\"                                        \n",
              " [6] \"description\"                                 \n",
              " [7] \"neighborhood_overview\"                       \n",
              " [8] \"picture_url\"                                 \n",
              " [9] \"host_id\"                                     \n",
              "[10] \"host_url\"                                    \n",
              "[11] \"host_name\"                                   \n",
              "[12] \"host_since\"                                  \n",
              "[13] \"host_location\"                               \n",
              "[14] \"host_about\"                                  \n",
              "[15] \"host_response_time\"                          \n",
              "[16] \"host_response_rate\"                          \n",
              "[17] \"host_acceptance_rate\"                        \n",
              "[18] \"host_is_superhost\"                           \n",
              "[19] \"host_thumbnail_url\"                          \n",
              "[20] \"host_picture_url\"                            \n",
              "[21] \"host_neighbourhood\"                          \n",
              "[22] \"host_listings_count\"                         \n",
              "[23] \"host_total_listings_count\"                   \n",
              "[24] \"host_verifications\"                          \n",
              "[25] \"host_has_profile_pic\"                        \n",
              "[26] \"host_identity_verified\"                      \n",
              "[27] \"neighbourhood\"                               \n",
              "[28] \"neighbourhood_cleansed\"                      \n",
              "[29] \"neighbourhood_group_cleansed\"                \n",
              "[30] \"latitude\"                                    \n",
              "[31] \"longitude\"                                   \n",
              "[32] \"property_type\"                               \n",
              "[33] \"room_type\"                                   \n",
              "[34] \"accommodates\"                                \n",
              "[35] \"bathrooms\"                                   \n",
              "[36] \"bathrooms_text\"                              \n",
              "[37] \"bedrooms\"                                    \n",
              "[38] \"beds\"                                        \n",
              "[39] \"amenities\"                                   \n",
              "[40] \"price\"                                       \n",
              "[41] \"minimum_nights\"                              \n",
              "[42] \"maximum_nights\"                              \n",
              "[43] \"minimum_minimum_nights\"                      \n",
              "[44] \"maximum_minimum_nights\"                      \n",
              "[45] \"minimum_maximum_nights\"                      \n",
              "[46] \"maximum_maximum_nights\"                      \n",
              "[47] \"minimum_nights_avg_ntm\"                      \n",
              "[48] \"maximum_nights_avg_ntm\"                      \n",
              "[49] \"calendar_updated\"                            \n",
              "[50] \"has_availability\"                            \n",
              "[51] \"availability_30\"                             \n",
              "[52] \"availability_60\"                             \n",
              "[53] \"availability_90\"                             \n",
              "[54] \"availability_365\"                            \n",
              "[55] \"calendar_last_scraped\"                       \n",
              "[56] \"number_of_reviews\"                           \n",
              "[57] \"number_of_reviews_ltm\"                       \n",
              "[58] \"number_of_reviews_l30d\"                      \n",
              "[59] \"first_review\"                                \n",
              "[60] \"last_review\"                                 \n",
              "[61] \"review_scores_rating\"                        \n",
              "[62] \"review_scores_accuracy\"                      \n",
              "[63] \"review_scores_cleanliness\"                   \n",
              "[64] \"review_scores_checkin\"                       \n",
              "[65] \"review_scores_communication\"                 \n",
              "[66] \"review_scores_location\"                      \n",
              "[67] \"review_scores_value\"                         \n",
              "[68] \"license\"                                     \n",
              "[69] \"instant_bookable\"                            \n",
              "[70] \"calculated_host_listings_count\"              \n",
              "[71] \"calculated_host_listings_count_entire_homes\" \n",
              "[72] \"calculated_host_listings_count_private_rooms\"\n",
              "[73] \"calculated_host_listings_count_shared_rooms\" \n",
              "[74] \"reviews_per_month\"                           "
            ],
            "text/latex": "\\begin{enumerate*}\n\\item 'id'\n\\item 'listing\\_url'\n\\item 'scrape\\_id'\n\\item 'last\\_scraped'\n\\item 'name'\n\\item 'description'\n\\item 'neighborhood\\_overview'\n\\item 'picture\\_url'\n\\item 'host\\_id'\n\\item 'host\\_url'\n\\item 'host\\_name'\n\\item 'host\\_since'\n\\item 'host\\_location'\n\\item 'host\\_about'\n\\item 'host\\_response\\_time'\n\\item 'host\\_response\\_rate'\n\\item 'host\\_acceptance\\_rate'\n\\item 'host\\_is\\_superhost'\n\\item 'host\\_thumbnail\\_url'\n\\item 'host\\_picture\\_url'\n\\item 'host\\_neighbourhood'\n\\item 'host\\_listings\\_count'\n\\item 'host\\_total\\_listings\\_count'\n\\item 'host\\_verifications'\n\\item 'host\\_has\\_profile\\_pic'\n\\item 'host\\_identity\\_verified'\n\\item 'neighbourhood'\n\\item 'neighbourhood\\_cleansed'\n\\item 'neighbourhood\\_group\\_cleansed'\n\\item 'latitude'\n\\item 'longitude'\n\\item 'property\\_type'\n\\item 'room\\_type'\n\\item 'accommodates'\n\\item 'bathrooms'\n\\item 'bathrooms\\_text'\n\\item 'bedrooms'\n\\item 'beds'\n\\item 'amenities'\n\\item 'price'\n\\item 'minimum\\_nights'\n\\item 'maximum\\_nights'\n\\item 'minimum\\_minimum\\_nights'\n\\item 'maximum\\_minimum\\_nights'\n\\item 'minimum\\_maximum\\_nights'\n\\item 'maximum\\_maximum\\_nights'\n\\item 'minimum\\_nights\\_avg\\_ntm'\n\\item 'maximum\\_nights\\_avg\\_ntm'\n\\item 'calendar\\_updated'\n\\item 'has\\_availability'\n\\item 'availability\\_30'\n\\item 'availability\\_60'\n\\item 'availability\\_90'\n\\item 'availability\\_365'\n\\item 'calendar\\_last\\_scraped'\n\\item 'number\\_of\\_reviews'\n\\item 'number\\_of\\_reviews\\_ltm'\n\\item 'number\\_of\\_reviews\\_l30d'\n\\item 'first\\_review'\n\\item 'last\\_review'\n\\item 'review\\_scores\\_rating'\n\\item 'review\\_scores\\_accuracy'\n\\item 'review\\_scores\\_cleanliness'\n\\item 'review\\_scores\\_checkin'\n\\item 'review\\_scores\\_communication'\n\\item 'review\\_scores\\_location'\n\\item 'review\\_scores\\_value'\n\\item 'license'\n\\item 'instant\\_bookable'\n\\item 'calculated\\_host\\_listings\\_count'\n\\item 'calculated\\_host\\_listings\\_count\\_entire\\_homes'\n\\item 'calculated\\_host\\_listings\\_count\\_private\\_rooms'\n\\item 'calculated\\_host\\_listings\\_count\\_shared\\_rooms'\n\\item 'reviews\\_per\\_month'\n\\end{enumerate*}\n",
            "text/markdown": "1. 'id'\n2. 'listing_url'\n3. 'scrape_id'\n4. 'last_scraped'\n5. 'name'\n6. 'description'\n7. 'neighborhood_overview'\n8. 'picture_url'\n9. 'host_id'\n10. 'host_url'\n11. 'host_name'\n12. 'host_since'\n13. 'host_location'\n14. 'host_about'\n15. 'host_response_time'\n16. 'host_response_rate'\n17. 'host_acceptance_rate'\n18. 'host_is_superhost'\n19. 'host_thumbnail_url'\n20. 'host_picture_url'\n21. 'host_neighbourhood'\n22. 'host_listings_count'\n23. 'host_total_listings_count'\n24. 'host_verifications'\n25. 'host_has_profile_pic'\n26. 'host_identity_verified'\n27. 'neighbourhood'\n28. 'neighbourhood_cleansed'\n29. 'neighbourhood_group_cleansed'\n30. 'latitude'\n31. 'longitude'\n32. 'property_type'\n33. 'room_type'\n34. 'accommodates'\n35. 'bathrooms'\n36. 'bathrooms_text'\n37. 'bedrooms'\n38. 'beds'\n39. 'amenities'\n40. 'price'\n41. 'minimum_nights'\n42. 'maximum_nights'\n43. 'minimum_minimum_nights'\n44. 'maximum_minimum_nights'\n45. 'minimum_maximum_nights'\n46. 'maximum_maximum_nights'\n47. 'minimum_nights_avg_ntm'\n48. 'maximum_nights_avg_ntm'\n49. 'calendar_updated'\n50. 'has_availability'\n51. 'availability_30'\n52. 'availability_60'\n53. 'availability_90'\n54. 'availability_365'\n55. 'calendar_last_scraped'\n56. 'number_of_reviews'\n57. 'number_of_reviews_ltm'\n58. 'number_of_reviews_l30d'\n59. 'first_review'\n60. 'last_review'\n61. 'review_scores_rating'\n62. 'review_scores_accuracy'\n63. 'review_scores_cleanliness'\n64. 'review_scores_checkin'\n65. 'review_scores_communication'\n66. 'review_scores_location'\n67. 'review_scores_value'\n68. 'license'\n69. 'instant_bookable'\n70. 'calculated_host_listings_count'\n71. 'calculated_host_listings_count_entire_homes'\n72. 'calculated_host_listings_count_private_rooms'\n73. 'calculated_host_listings_count_shared_rooms'\n74. 'reviews_per_month'\n\n\n",
            "text/html": [
              "<style>\n",
              ".list-inline {list-style: none; margin:0; padding: 0}\n",
              ".list-inline>li {display: inline-block}\n",
              ".list-inline>li:not(:last-child)::after {content: \"\\00b7\"; padding: 0 .5ex}\n",
              "</style>\n",
              "<ol class=list-inline><li>'id'</li><li>'listing_url'</li><li>'scrape_id'</li><li>'last_scraped'</li><li>'name'</li><li>'description'</li><li>'neighborhood_overview'</li><li>'picture_url'</li><li>'host_id'</li><li>'host_url'</li><li>'host_name'</li><li>'host_since'</li><li>'host_location'</li><li>'host_about'</li><li>'host_response_time'</li><li>'host_response_rate'</li><li>'host_acceptance_rate'</li><li>'host_is_superhost'</li><li>'host_thumbnail_url'</li><li>'host_picture_url'</li><li>'host_neighbourhood'</li><li>'host_listings_count'</li><li>'host_total_listings_count'</li><li>'host_verifications'</li><li>'host_has_profile_pic'</li><li>'host_identity_verified'</li><li>'neighbourhood'</li><li>'neighbourhood_cleansed'</li><li>'neighbourhood_group_cleansed'</li><li>'latitude'</li><li>'longitude'</li><li>'property_type'</li><li>'room_type'</li><li>'accommodates'</li><li>'bathrooms'</li><li>'bathrooms_text'</li><li>'bedrooms'</li><li>'beds'</li><li>'amenities'</li><li>'price'</li><li>'minimum_nights'</li><li>'maximum_nights'</li><li>'minimum_minimum_nights'</li><li>'maximum_minimum_nights'</li><li>'minimum_maximum_nights'</li><li>'maximum_maximum_nights'</li><li>'minimum_nights_avg_ntm'</li><li>'maximum_nights_avg_ntm'</li><li>'calendar_updated'</li><li>'has_availability'</li><li>'availability_30'</li><li>'availability_60'</li><li>'availability_90'</li><li>'availability_365'</li><li>'calendar_last_scraped'</li><li>'number_of_reviews'</li><li>'number_of_reviews_ltm'</li><li>'number_of_reviews_l30d'</li><li>'first_review'</li><li>'last_review'</li><li>'review_scores_rating'</li><li>'review_scores_accuracy'</li><li>'review_scores_cleanliness'</li><li>'review_scores_checkin'</li><li>'review_scores_communication'</li><li>'review_scores_location'</li><li>'review_scores_value'</li><li>'license'</li><li>'instant_bookable'</li><li>'calculated_host_listings_count'</li><li>'calculated_host_listings_count_entire_homes'</li><li>'calculated_host_listings_count_private_rooms'</li><li>'calculated_host_listings_count_shared_rooms'</li><li>'reviews_per_month'</li></ol>\n"
            ]
          },
          "metadata": {
            "tags": []
          }
        }
      ]
    },
    {
      "cell_type": "code",
      "metadata": {
        "colab": {
          "base_uri": "https://localhost:8080/",
          "height": 52
        },
        "id": "xW7kTcDaEuxu",
        "outputId": "4c017d60-6d46-4d92-99af-d74e439b4d7f"
      },
      "source": [
        "\r\n",
        "listings1$price_dollar <-  str_extract(listings1$price, \"\\\\d+\") %>% unlist() %>% as.numeric() \r\n",
        "summary(listings1$price_dollar)"
      ],
      "execution_count": null,
      "outputs": [
        {
          "output_type": "display_data",
          "data": {
            "text/plain": [
              "   Min. 1st Qu.  Median    Mean 3rd Qu.    Max. \n",
              "    0.0    59.0    80.0   104.5   118.0   999.0 "
            ]
          },
          "metadata": {
            "tags": []
          }
        }
      ]
    },
    {
      "cell_type": "code",
      "metadata": {
        "id": "TieE_RFZ9ube"
      },
      "source": [
        "\r\n"
      ],
      "execution_count": null,
      "outputs": []
    },
    {
      "cell_type": "markdown",
      "metadata": {
        "id": "eujtUsL0nj5K"
      },
      "source": [
        "# Etude 7\r\n",
        "\r\n",
        "### Numer of listings available by date\r\n"
      ]
    },
    {
      "cell_type": "code",
      "metadata": {
        "id": "McHrV-JInxa-",
        "colab": {
          "base_uri": "https://localhost:8080/",
          "height": 461
        },
        "outputId": "e17e157e-0957-4f07-a3fd-dea96a1ae605"
      },
      "source": [
        " #Création du dataset\r\n",
        " available_listings <- calendar %>% filter(available==\"t\" & date>= \"2020-12-01\" ) %>% group_by(date) %>% summarise(nombre_de_listing= length(listing_id))\r\n",
        " head( available_listings, 20)"
      ],
      "execution_count": null,
      "outputs": [
        {
          "output_type": "stream",
          "text": [
            "`summarise()` ungrouping output (override with `.groups` argument)\n",
            "\n"
          ],
          "name": "stderr"
        },
        {
          "output_type": "display_data",
          "data": {
            "text/plain": [
              "   date       nombre_de_listing\n",
              "1  2020-12-01 21147            \n",
              "2  2020-12-02 21147            \n",
              "3  2020-12-03 21159            \n",
              "4  2020-12-04 21256            \n",
              "5  2020-12-05 21185            \n",
              "6  2020-12-06 21286            \n",
              "7  2020-12-07 21216            \n",
              "8  2020-12-08 21244            \n",
              "9  2020-12-09 21270            \n",
              "10 2020-12-10 21306            \n",
              "11 2020-12-11 21482            \n",
              "12 2020-12-12 21552            \n",
              "13 2020-12-13 21597            \n",
              "14 2020-12-14 21480            \n",
              "15 2020-12-15 21443            \n",
              "16 2020-12-16 21459            \n",
              "17 2020-12-17 21545            \n",
              "18 2020-12-18 21836            \n",
              "19 2020-12-19 22135            \n",
              "20 2020-12-20 22355            "
            ],
            "text/latex": "A tibble: 20 × 2\n\\begin{tabular}{ll}\n date & nombre\\_de\\_listing\\\\\n <date> & <int>\\\\\n\\hline\n\t 2020-12-01 & 21147\\\\\n\t 2020-12-02 & 21147\\\\\n\t 2020-12-03 & 21159\\\\\n\t 2020-12-04 & 21256\\\\\n\t 2020-12-05 & 21185\\\\\n\t 2020-12-06 & 21286\\\\\n\t 2020-12-07 & 21216\\\\\n\t 2020-12-08 & 21244\\\\\n\t 2020-12-09 & 21270\\\\\n\t 2020-12-10 & 21306\\\\\n\t 2020-12-11 & 21482\\\\\n\t 2020-12-12 & 21552\\\\\n\t 2020-12-13 & 21597\\\\\n\t 2020-12-14 & 21480\\\\\n\t 2020-12-15 & 21443\\\\\n\t 2020-12-16 & 21459\\\\\n\t 2020-12-17 & 21545\\\\\n\t 2020-12-18 & 21836\\\\\n\t 2020-12-19 & 22135\\\\\n\t 2020-12-20 & 22355\\\\\n\\end{tabular}\n",
            "text/markdown": "\nA tibble: 20 × 2\n\n| date &lt;date&gt; | nombre_de_listing &lt;int&gt; |\n|---|---|\n| 2020-12-01 | 21147 |\n| 2020-12-02 | 21147 |\n| 2020-12-03 | 21159 |\n| 2020-12-04 | 21256 |\n| 2020-12-05 | 21185 |\n| 2020-12-06 | 21286 |\n| 2020-12-07 | 21216 |\n| 2020-12-08 | 21244 |\n| 2020-12-09 | 21270 |\n| 2020-12-10 | 21306 |\n| 2020-12-11 | 21482 |\n| 2020-12-12 | 21552 |\n| 2020-12-13 | 21597 |\n| 2020-12-14 | 21480 |\n| 2020-12-15 | 21443 |\n| 2020-12-16 | 21459 |\n| 2020-12-17 | 21545 |\n| 2020-12-18 | 21836 |\n| 2020-12-19 | 22135 |\n| 2020-12-20 | 22355 |\n\n",
            "text/html": [
              "<table>\n",
              "<caption>A tibble: 20 × 2</caption>\n",
              "<thead>\n",
              "\t<tr><th scope=col>date</th><th scope=col>nombre_de_listing</th></tr>\n",
              "\t<tr><th scope=col>&lt;date&gt;</th><th scope=col>&lt;int&gt;</th></tr>\n",
              "</thead>\n",
              "<tbody>\n",
              "\t<tr><td>2020-12-01</td><td>21147</td></tr>\n",
              "\t<tr><td>2020-12-02</td><td>21147</td></tr>\n",
              "\t<tr><td>2020-12-03</td><td>21159</td></tr>\n",
              "\t<tr><td>2020-12-04</td><td>21256</td></tr>\n",
              "\t<tr><td>2020-12-05</td><td>21185</td></tr>\n",
              "\t<tr><td>2020-12-06</td><td>21286</td></tr>\n",
              "\t<tr><td>2020-12-07</td><td>21216</td></tr>\n",
              "\t<tr><td>2020-12-08</td><td>21244</td></tr>\n",
              "\t<tr><td>2020-12-09</td><td>21270</td></tr>\n",
              "\t<tr><td>2020-12-10</td><td>21306</td></tr>\n",
              "\t<tr><td>2020-12-11</td><td>21482</td></tr>\n",
              "\t<tr><td>2020-12-12</td><td>21552</td></tr>\n",
              "\t<tr><td>2020-12-13</td><td>21597</td></tr>\n",
              "\t<tr><td>2020-12-14</td><td>21480</td></tr>\n",
              "\t<tr><td>2020-12-15</td><td>21443</td></tr>\n",
              "\t<tr><td>2020-12-16</td><td>21459</td></tr>\n",
              "\t<tr><td>2020-12-17</td><td>21545</td></tr>\n",
              "\t<tr><td>2020-12-18</td><td>21836</td></tr>\n",
              "\t<tr><td>2020-12-19</td><td>22135</td></tr>\n",
              "\t<tr><td>2020-12-20</td><td>22355</td></tr>\n",
              "</tbody>\n",
              "</table>\n"
            ]
          },
          "metadata": {
            "tags": []
          }
        }
      ]
    },
    {
      "cell_type": "markdown",
      "metadata": {
        "id": "E4plMARb9mTW"
      },
      "source": [
        "#### Représentation graphique"
      ]
    },
    {
      "cell_type": "code",
      "metadata": {
        "colab": {
          "base_uri": "https://localhost:8080/",
          "height": 376
        },
        "id": "1PdcLM2swFyG",
        "outputId": "8bbf2b24-479e-4980-edd5-b8324caad0f9"
      },
      "source": [
        "options(repr.plot.width=12, repr.plot.height=6)\r\n",
        "ggplot( available_listings, aes(x=date, y=nombre_de_listing )) + geom_line(colour= \"orange\" ) +\r\n",
        " ggtitle(\"Numer of listings available by date\")    + theme_minimal() +\r\n",
        "  ylab(\"Number of listings available\") + xlab(\"Date\") +\r\n",
        "  theme(plot.title = element_text(hjust = 0.5)) + scale_x_date(date_breaks = \"3 months\", date_labels = \"%b %Y\")"
      ],
      "execution_count": null,
      "outputs": [
        {
          "output_type": "display_data",
          "data": {
            "image/png": "[encoded data removed]",
            "text/plain": [
              "plot without title"
            ]
          },
          "metadata": {
            "tags": [],
            "image/png": {
              "width": 720,
              "height": 360
            }
          }
        }
      ]
    },
    {
      "cell_type": "markdown",
      "metadata": {
        "id": "NqFACRws9RgE"
      },
      "source": [
        "# Etude 8\r\n",
        "Average price of 2 person Accommodation by date"
      ]
    },
    {
      "cell_type": "code",
      "metadata": {
        "id": "Aue45TNdGlBu"
      },
      "source": [
        "calendar1 <- calendar"
      ],
      "execution_count": null,
      "outputs": []
    },
    {
      "cell_type": "code",
      "metadata": {
        "colab": {
          "base_uri": "https://localhost:8080/",
          "height": 176
        },
        "id": "zEA6XbpO9KTF",
        "outputId": "a5d2ab99-81ee-4d81-f0e8-a57cb78c98f5"
      },
      "source": [
        " #on renome la colonne listing_id en id pour avoir un élément fiable de jointure\r\n",
        " calendar1 <- calendar1 %>% rename(id = listing_id )\r\n",
        "head(calendar1)"
      ],
      "execution_count": null,
      "outputs": [
        {
          "output_type": "display_data",
          "data": {
            "text/plain": [
              "  id    date       available price   adjusted_price minimum_nights\n",
              "1  2577 2020-10-19 f         $125.00 $125.00        3             \n",
              "2 73533 2020-10-20 t         $95.00  $95.00         2             \n",
              "3 73533 2020-10-21 t         $95.00  $95.00         2             \n",
              "4 73533 2020-10-22 t         $95.00  $95.00         2             \n",
              "5 73533 2020-10-23 t         $95.00  $95.00         2             \n",
              "6 73533 2020-10-24 t         $95.00  $95.00         2             \n",
              "  maximum_nights\n",
              "1 1125          \n",
              "2 1125          \n",
              "3 1125          \n",
              "4 1125          \n",
              "5 1125          \n",
              "6 1125          "
            ],
            "text/latex": "A data.table: 6 × 7\n\\begin{tabular}{lllllll}\n id & date & available & price & adjusted\\_price & minimum\\_nights & maximum\\_nights\\\\\n <int> & <date> & <chr> & <chr> & <chr> & <int> & <int>\\\\\n\\hline\n\t  2577 & 2020-10-19 & f & \\$125.00 & \\$125.00 & 3 & 1125\\\\\n\t 73533 & 2020-10-20 & t & \\$95.00  & \\$95.00  & 2 & 1125\\\\\n\t 73533 & 2020-10-21 & t & \\$95.00  & \\$95.00  & 2 & 1125\\\\\n\t 73533 & 2020-10-22 & t & \\$95.00  & \\$95.00  & 2 & 1125\\\\\n\t 73533 & 2020-10-23 & t & \\$95.00  & \\$95.00  & 2 & 1125\\\\\n\t 73533 & 2020-10-24 & t & \\$95.00  & \\$95.00  & 2 & 1125\\\\\n\\end{tabular}\n",
            "text/markdown": "\nA data.table: 6 × 7\n\n| id &lt;int&gt; | date &lt;date&gt; | available &lt;chr&gt; | price &lt;chr&gt; | adjusted_price &lt;chr&gt; | minimum_nights &lt;int&gt; | maximum_nights &lt;int&gt; |\n|---|---|---|---|---|---|---|\n|  2577 | 2020-10-19 | f | $125.00 | $125.00 | 3 | 1125 |\n| 73533 | 2020-10-20 | t | $95.00  | $95.00  | 2 | 1125 |\n| 73533 | 2020-10-21 | t | $95.00  | $95.00  | 2 | 1125 |\n| 73533 | 2020-10-22 | t | $95.00  | $95.00  | 2 | 1125 |\n| 73533 | 2020-10-23 | t | $95.00  | $95.00  | 2 | 1125 |\n| 73533 | 2020-10-24 | t | $95.00  | $95.00  | 2 | 1125 |\n\n",
            "text/html": [
              "<table>\n",
              "<caption>A data.table: 6 × 7</caption>\n",
              "<thead>\n",
              "\t<tr><th scope=col>id</th><th scope=col>date</th><th scope=col>available</th><th scope=col>price</th><th scope=col>adjusted_price</th><th scope=col>minimum_nights</th><th scope=col>maximum_nights</th></tr>\n",
              "\t<tr><th scope=col>&lt;int&gt;</th><th scope=col>&lt;date&gt;</th><th scope=col>&lt;chr&gt;</th><th scope=col>&lt;chr&gt;</th><th scope=col>&lt;chr&gt;</th><th scope=col>&lt;int&gt;</th><th scope=col>&lt;int&gt;</th></tr>\n",
              "</thead>\n",
              "<tbody>\n",
              "\t<tr><td> 2577</td><td>2020-10-19</td><td>f</td><td>$125.00</td><td>$125.00</td><td>3</td><td>1125</td></tr>\n",
              "\t<tr><td>73533</td><td>2020-10-20</td><td>t</td><td>$95.00 </td><td>$95.00 </td><td>2</td><td>1125</td></tr>\n",
              "\t<tr><td>73533</td><td>2020-10-21</td><td>t</td><td>$95.00 </td><td>$95.00 </td><td>2</td><td>1125</td></tr>\n",
              "\t<tr><td>73533</td><td>2020-10-22</td><td>t</td><td>$95.00 </td><td>$95.00 </td><td>2</td><td>1125</td></tr>\n",
              "\t<tr><td>73533</td><td>2020-10-23</td><td>t</td><td>$95.00 </td><td>$95.00 </td><td>2</td><td>1125</td></tr>\n",
              "\t<tr><td>73533</td><td>2020-10-24</td><td>t</td><td>$95.00 </td><td>$95.00 </td><td>2</td><td>1125</td></tr>\n",
              "</tbody>\n",
              "</table>\n"
            ]
          },
          "metadata": {
            "tags": []
          }
        }
      ]
    },
    {
      "cell_type": "code",
      "metadata": {
        "colab": {
          "base_uri": "https://localhost:8080/",
          "height": 33
        },
        "id": "hWfsh8ZKIpis",
        "outputId": "64aa6b7c-350c-40b2-adb8-9d5e392c8960"
      },
      "source": [
        "\r\n",
        "colnames(calendar1)"
      ],
      "execution_count": null,
      "outputs": [
        {
          "output_type": "display_data",
          "data": {
            "text/plain": [
              "[1] \"id\"             \"date\"           \"available\"      \"price\"         \n",
              "[5] \"adjusted_price\" \"minimum_nights\" \"maximum_nights\""
            ],
            "text/latex": "\\begin{enumerate*}\n\\item 'id'\n\\item 'date'\n\\item 'available'\n\\item 'price'\n\\item 'adjusted\\_price'\n\\item 'minimum\\_nights'\n\\item 'maximum\\_nights'\n\\end{enumerate*}\n",
            "text/markdown": "1. 'id'\n2. 'date'\n3. 'available'\n4. 'price'\n5. 'adjusted_price'\n6. 'minimum_nights'\n7. 'maximum_nights'\n\n\n",
            "text/html": [
              "<style>\n",
              ".list-inline {list-style: none; margin:0; padding: 0}\n",
              ".list-inline>li {display: inline-block}\n",
              ".list-inline>li:not(:last-child)::after {content: \"\\00b7\"; padding: 0 .5ex}\n",
              "</style>\n",
              "<ol class=list-inline><li>'id'</li><li>'date'</li><li>'available'</li><li>'price'</li><li>'adjusted_price'</li><li>'minimum_nights'</li><li>'maximum_nights'</li></ol>\n"
            ]
          },
          "metadata": {
            "tags": []
          }
        }
      ]
    },
    {
      "cell_type": "markdown",
      "metadata": {
        "id": "5gbJPRvj4zyu"
      },
      "source": [
        "Créons un dataset regroupant les variables issues du dataset listings qui nous seront utiles pour cette étude"
      ]
    },
    {
      "cell_type": "code",
      "metadata": {
        "colab": {
          "base_uri": "https://localhost:8080/",
          "height": 176
        },
        "id": "7jzDo5dyFH86",
        "outputId": "c17c8a02-7ccc-44d5-b962-07877a9734f4"
      },
      "source": [
        "Shortlistings <- listings1 %>% mutate(price_euro = price_dollar * 0.82) %>% select(price, price_euro,  price_dollar, id, accommodates)\r\n",
        "head(Shortlistings)"
      ],
      "execution_count": null,
      "outputs": [
        {
          "output_type": "display_data",
          "data": {
            "text/plain": [
              "  price   price_euro price_dollar id   accommodates\n",
              "1 $125.00 102.50     125          2577 4           \n",
              "2 $60.00   49.20      60          3109 2           \n",
              "3 $89.00   72.98      89          4886 2           \n",
              "4 $103.00  84.46     103          4890 4           \n",
              "5 $48.00   39.36      48          5396 2           \n",
              "6 $94.29   77.08      94          7397 4           "
            ],
            "text/latex": "A data.table: 6 × 5\n\\begin{tabular}{lllll}\n price & price\\_euro & price\\_dollar & id & accommodates\\\\\n <chr> & <dbl> & <dbl> & <int> & <int>\\\\\n\\hline\n\t \\$125.00 & 102.50 & 125 & 2577 & 4\\\\\n\t \\$60.00  &  49.20 &  60 & 3109 & 2\\\\\n\t \\$89.00  &  72.98 &  89 & 4886 & 2\\\\\n\t \\$103.00 &  84.46 & 103 & 4890 & 4\\\\\n\t \\$48.00  &  39.36 &  48 & 5396 & 2\\\\\n\t \\$94.29  &  77.08 &  94 & 7397 & 4\\\\\n\\end{tabular}\n",
            "text/markdown": "\nA data.table: 6 × 5\n\n| price &lt;chr&gt; | price_euro &lt;dbl&gt; | price_dollar &lt;dbl&gt; | id &lt;int&gt; | accommodates &lt;int&gt; |\n|---|---|---|---|---|\n| $125.00 | 102.50 | 125 | 2577 | 4 |\n| $60.00  |  49.20 |  60 | 3109 | 2 |\n| $89.00  |  72.98 |  89 | 4886 | 2 |\n| $103.00 |  84.46 | 103 | 4890 | 4 |\n| $48.00  |  39.36 |  48 | 5396 | 2 |\n| $94.29  |  77.08 |  94 | 7397 | 4 |\n\n",
            "text/html": [
              "<table>\n",
              "<caption>A data.table: 6 × 5</caption>\n",
              "<thead>\n",
              "\t<tr><th scope=col>price</th><th scope=col>price_euro</th><th scope=col>price_dollar</th><th scope=col>id</th><th scope=col>accommodates</th></tr>\n",
              "\t<tr><th scope=col>&lt;chr&gt;</th><th scope=col>&lt;dbl&gt;</th><th scope=col>&lt;dbl&gt;</th><th scope=col>&lt;int&gt;</th><th scope=col>&lt;int&gt;</th></tr>\n",
              "</thead>\n",
              "<tbody>\n",
              "\t<tr><td>$125.00</td><td>102.50</td><td>125</td><td>2577</td><td>4</td></tr>\n",
              "\t<tr><td>$60.00 </td><td> 49.20</td><td> 60</td><td>3109</td><td>2</td></tr>\n",
              "\t<tr><td>$89.00 </td><td> 72.98</td><td> 89</td><td>4886</td><td>2</td></tr>\n",
              "\t<tr><td>$103.00</td><td> 84.46</td><td>103</td><td>4890</td><td>4</td></tr>\n",
              "\t<tr><td>$48.00 </td><td> 39.36</td><td> 48</td><td>5396</td><td>2</td></tr>\n",
              "\t<tr><td>$94.29 </td><td> 77.08</td><td> 94</td><td>7397</td><td>4</td></tr>\n",
              "</tbody>\n",
              "</table>\n"
            ]
          },
          "metadata": {
            "tags": []
          }
        }
      ]
    },
    {
      "cell_type": "code",
      "metadata": {
        "colab": {
          "base_uri": "https://localhost:8080/",
          "height": 247
        },
        "id": "yx2X-VPXGzFj",
        "outputId": "f00465cb-2b9d-42ac-e992-38b8ec5f6601"
      },
      "source": [
        "#Jointure de tables Shortlistings et calendar1\r\n",
        "data_united <- inner_join(calendar1, Shortlistings, by= \"id\")\r\n",
        "head(data_united, 10)"
      ],
      "execution_count": null,
      "outputs": [
        {
          "output_type": "display_data",
          "data": {
            "text/plain": [
              "   id    date       available price.x adjusted_price minimum_nights\n",
              "1   2577 2020-10-19 f         $125.00 $125.00        3             \n",
              "2  73533 2020-10-20 t         $95.00  $95.00         2             \n",
              "3  73533 2020-10-21 t         $95.00  $95.00         2             \n",
              "4  73533 2020-10-22 t         $95.00  $95.00         2             \n",
              "5  73533 2020-10-23 t         $95.00  $95.00         2             \n",
              "6  73533 2020-10-24 t         $95.00  $95.00         2             \n",
              "7  73533 2020-10-25 t         $95.00  $95.00         2             \n",
              "8  73533 2020-10-26 t         $95.00  $95.00         2             \n",
              "9  73533 2020-10-27 t         $95.00  $95.00         2             \n",
              "10 73533 2020-10-28 t         $95.00  $95.00         2             \n",
              "   maximum_nights price.y price_euro price_dollar accommodates\n",
              "1  1125           $125.00 102.5      125          4           \n",
              "2  1125           $95.00   77.9       95          3           \n",
              "3  1125           $95.00   77.9       95          3           \n",
              "4  1125           $95.00   77.9       95          3           \n",
              "5  1125           $95.00   77.9       95          3           \n",
              "6  1125           $95.00   77.9       95          3           \n",
              "7  1125           $95.00   77.9       95          3           \n",
              "8  1125           $95.00   77.9       95          3           \n",
              "9  1125           $95.00   77.9       95          3           \n",
              "10 1125           $95.00   77.9       95          3           "
            ],
            "text/latex": "A data.table: 10 × 11\n\\begin{tabular}{lllllllllll}\n id & date & available & price.x & adjusted\\_price & minimum\\_nights & maximum\\_nights & price.y & price\\_euro & price\\_dollar & accommodates\\\\\n <int> & <date> & <chr> & <chr> & <chr> & <int> & <int> & <chr> & <dbl> & <dbl> & <int>\\\\\n\\hline\n\t  2577 & 2020-10-19 & f & \\$125.00 & \\$125.00 & 3 & 1125 & \\$125.00 & 102.5 & 125 & 4\\\\\n\t 73533 & 2020-10-20 & t & \\$95.00  & \\$95.00  & 2 & 1125 & \\$95.00  &  77.9 &  95 & 3\\\\\n\t 73533 & 2020-10-21 & t & \\$95.00  & \\$95.00  & 2 & 1125 & \\$95.00  &  77.9 &  95 & 3\\\\\n\t 73533 & 2020-10-22 & t & \\$95.00  & \\$95.00  & 2 & 1125 & \\$95.00  &  77.9 &  95 & 3\\\\\n\t 73533 & 2020-10-23 & t & \\$95.00  & \\$95.00  & 2 & 1125 & \\$95.00  &  77.9 &  95 & 3\\\\\n\t 73533 & 2020-10-24 & t & \\$95.00  & \\$95.00  & 2 & 1125 & \\$95.00  &  77.9 &  95 & 3\\\\\n\t 73533 & 2020-10-25 & t & \\$95.00  & \\$95.00  & 2 & 1125 & \\$95.00  &  77.9 &  95 & 3\\\\\n\t 73533 & 2020-10-26 & t & \\$95.00  & \\$95.00  & 2 & 1125 & \\$95.00  &  77.9 &  95 & 3\\\\\n\t 73533 & 2020-10-27 & t & \\$95.00  & \\$95.00  & 2 & 1125 & \\$95.00  &  77.9 &  95 & 3\\\\\n\t 73533 & 2020-10-28 & t & \\$95.00  & \\$95.00  & 2 & 1125 & \\$95.00  &  77.9 &  95 & 3\\\\\n\\end{tabular}\n",
            "text/markdown": "\nA data.table: 10 × 11\n\n| id &lt;int&gt; | date &lt;date&gt; | available &lt;chr&gt; | price.x &lt;chr&gt; | adjusted_price &lt;chr&gt; | minimum_nights &lt;int&gt; | maximum_nights &lt;int&gt; | price.y &lt;chr&gt; | price_euro &lt;dbl&gt; | price_dollar &lt;dbl&gt; | accommodates &lt;int&gt; |\n|---|---|---|---|---|---|---|---|---|---|---|\n|  2577 | 2020-10-19 | f | $125.00 | $125.00 | 3 | 1125 | $125.00 | 102.5 | 125 | 4 |\n| 73533 | 2020-10-20 | t | $95.00  | $95.00  | 2 | 1125 | $95.00  |  77.9 |  95 | 3 |\n| 73533 | 2020-10-21 | t | $95.00  | $95.00  | 2 | 1125 | $95.00  |  77.9 |  95 | 3 |\n| 73533 | 2020-10-22 | t | $95.00  | $95.00  | 2 | 1125 | $95.00  |  77.9 |  95 | 3 |\n| 73533 | 2020-10-23 | t | $95.00  | $95.00  | 2 | 1125 | $95.00  |  77.9 |  95 | 3 |\n| 73533 | 2020-10-24 | t | $95.00  | $95.00  | 2 | 1125 | $95.00  |  77.9 |  95 | 3 |\n| 73533 | 2020-10-25 | t | $95.00  | $95.00  | 2 | 1125 | $95.00  |  77.9 |  95 | 3 |\n| 73533 | 2020-10-26 | t | $95.00  | $95.00  | 2 | 1125 | $95.00  |  77.9 |  95 | 3 |\n| 73533 | 2020-10-27 | t | $95.00  | $95.00  | 2 | 1125 | $95.00  |  77.9 |  95 | 3 |\n| 73533 | 2020-10-28 | t | $95.00  | $95.00  | 2 | 1125 | $95.00  |  77.9 |  95 | 3 |\n\n",
            "text/html": [
              "<table>\n",
              "<caption>A data.table: 10 × 11</caption>\n",
              "<thead>\n",
              "\t<tr><th scope=col>id</th><th scope=col>date</th><th scope=col>available</th><th scope=col>price.x</th><th scope=col>adjusted_price</th><th scope=col>minimum_nights</th><th scope=col>maximum_nights</th><th scope=col>price.y</th><th scope=col>price_euro</th><th scope=col>price_dollar</th><th scope=col>accommodates</th></tr>\n",
              "\t<tr><th scope=col>&lt;int&gt;</th><th scope=col>&lt;date&gt;</th><th scope=col>&lt;chr&gt;</th><th scope=col>&lt;chr&gt;</th><th scope=col>&lt;chr&gt;</th><th scope=col>&lt;int&gt;</th><th scope=col>&lt;int&gt;</th><th scope=col>&lt;chr&gt;</th><th scope=col>&lt;dbl&gt;</th><th scope=col>&lt;dbl&gt;</th><th scope=col>&lt;int&gt;</th></tr>\n",
              "</thead>\n",
              "<tbody>\n",
              "\t<tr><td> 2577</td><td>2020-10-19</td><td>f</td><td>$125.00</td><td>$125.00</td><td>3</td><td>1125</td><td>$125.00</td><td>102.5</td><td>125</td><td>4</td></tr>\n",
              "\t<tr><td>73533</td><td>2020-10-20</td><td>t</td><td>$95.00 </td><td>$95.00 </td><td>2</td><td>1125</td><td>$95.00 </td><td> 77.9</td><td> 95</td><td>3</td></tr>\n",
              "\t<tr><td>73533</td><td>2020-10-21</td><td>t</td><td>$95.00 </td><td>$95.00 </td><td>2</td><td>1125</td><td>$95.00 </td><td> 77.9</td><td> 95</td><td>3</td></tr>\n",
              "\t<tr><td>73533</td><td>2020-10-22</td><td>t</td><td>$95.00 </td><td>$95.00 </td><td>2</td><td>1125</td><td>$95.00 </td><td> 77.9</td><td> 95</td><td>3</td></tr>\n",
              "\t<tr><td>73533</td><td>2020-10-23</td><td>t</td><td>$95.00 </td><td>$95.00 </td><td>2</td><td>1125</td><td>$95.00 </td><td> 77.9</td><td> 95</td><td>3</td></tr>\n",
              "\t<tr><td>73533</td><td>2020-10-24</td><td>t</td><td>$95.00 </td><td>$95.00 </td><td>2</td><td>1125</td><td>$95.00 </td><td> 77.9</td><td> 95</td><td>3</td></tr>\n",
              "\t<tr><td>73533</td><td>2020-10-25</td><td>t</td><td>$95.00 </td><td>$95.00 </td><td>2</td><td>1125</td><td>$95.00 </td><td> 77.9</td><td> 95</td><td>3</td></tr>\n",
              "\t<tr><td>73533</td><td>2020-10-26</td><td>t</td><td>$95.00 </td><td>$95.00 </td><td>2</td><td>1125</td><td>$95.00 </td><td> 77.9</td><td> 95</td><td>3</td></tr>\n",
              "\t<tr><td>73533</td><td>2020-10-27</td><td>t</td><td>$95.00 </td><td>$95.00 </td><td>2</td><td>1125</td><td>$95.00 </td><td> 77.9</td><td> 95</td><td>3</td></tr>\n",
              "\t<tr><td>73533</td><td>2020-10-28</td><td>t</td><td>$95.00 </td><td>$95.00 </td><td>2</td><td>1125</td><td>$95.00 </td><td> 77.9</td><td> 95</td><td>3</td></tr>\n",
              "</tbody>\n",
              "</table>\n"
            ]
          },
          "metadata": {
            "tags": []
          }
        }
      ]
    },
    {
      "cell_type": "code",
      "metadata": {
        "colab": {
          "base_uri": "https://localhost:8080/",
          "height": 212
        },
        "id": "FQYQJ_HaSTeU",
        "outputId": "0a41d6ce-853d-48a4-b7c9-dc5147aec6a4"
      },
      "source": [
        "data_average_acc <- data_united %>% filter(accommodates== 2) %>% group_by(date) %>% summarise(average_price= mean(price_euro)) \r\n",
        "head(data_average_acc)"
      ],
      "execution_count": null,
      "outputs": [
        {
          "output_type": "stream",
          "text": [
            "`summarise()` ungrouping output (override with `.groups` argument)\n",
            "\n"
          ],
          "name": "stderr"
        },
        {
          "output_type": "display_data",
          "data": {
            "text/plain": [
              "  date       average_price\n",
              "1 2020-10-12 59.08853     \n",
              "2 2020-10-13 54.83879     \n",
              "3 2020-10-14 57.22879     \n",
              "4 2020-10-15 61.63277     \n",
              "5 2020-10-16 63.06508     \n",
              "6 2020-10-17 63.52614     "
            ],
            "text/latex": "A tibble: 6 × 2\n\\begin{tabular}{ll}\n date & average\\_price\\\\\n <date> & <dbl>\\\\\n\\hline\n\t 2020-10-12 & 59.08853\\\\\n\t 2020-10-13 & 54.83879\\\\\n\t 2020-10-14 & 57.22879\\\\\n\t 2020-10-15 & 61.63277\\\\\n\t 2020-10-16 & 63.06508\\\\\n\t 2020-10-17 & 63.52614\\\\\n\\end{tabular}\n",
            "text/markdown": "\nA tibble: 6 × 2\n\n| date &lt;date&gt; | average_price &lt;dbl&gt; |\n|---|---|\n| 2020-10-12 | 59.08853 |\n| 2020-10-13 | 54.83879 |\n| 2020-10-14 | 57.22879 |\n| 2020-10-15 | 61.63277 |\n| 2020-10-16 | 63.06508 |\n| 2020-10-17 | 63.52614 |\n\n",
            "text/html": [
              "<table>\n",
              "<caption>A tibble: 6 × 2</caption>\n",
              "<thead>\n",
              "\t<tr><th scope=col>date</th><th scope=col>average_price</th></tr>\n",
              "\t<tr><th scope=col>&lt;date&gt;</th><th scope=col>&lt;dbl&gt;</th></tr>\n",
              "</thead>\n",
              "<tbody>\n",
              "\t<tr><td>2020-10-12</td><td>59.08853</td></tr>\n",
              "\t<tr><td>2020-10-13</td><td>54.83879</td></tr>\n",
              "\t<tr><td>2020-10-14</td><td>57.22879</td></tr>\n",
              "\t<tr><td>2020-10-15</td><td>61.63277</td></tr>\n",
              "\t<tr><td>2020-10-16</td><td>63.06508</td></tr>\n",
              "\t<tr><td>2020-10-17</td><td>63.52614</td></tr>\n",
              "</tbody>\n",
              "</table>\n"
            ]
          },
          "metadata": {
            "tags": []
          }
        }
      ]
    },
    {
      "cell_type": "markdown",
      "metadata": {
        "id": "UsMaIbd53yaR"
      },
      "source": [
        "Représentation Graphique du prix moyen des listings de 2 personnes par date"
      ]
    },
    {
      "cell_type": "code",
      "metadata": {
        "colab": {
          "base_uri": "https://localhost:8080/",
          "height": 496
        },
        "id": "pLsmSI66VN2m",
        "outputId": "c9a9c94f-3369-4646-80b2-f4a251f8fd01"
      },
      "source": [
        "options(repr.plot.width=12, repr.plot.height=8)\r\n",
        "ggplot(data_average_acc, aes(x=date, y= average_price )) + geom_line(colour= \"orange\" ) +\r\n",
        " ggtitle(\"Average price of 2 person Accommodation by date\")    + theme_minimal() +\r\n",
        "  ylab(\"Price\") + xlab(\"Date\") +\r\n",
        "  theme(plot.title = element_text(hjust = 0.5)) "
      ],
      "execution_count": null,
      "outputs": [
        {
          "output_type": "display_data",
          "data": {
            "image/png": "[encoded data removed]",
            "text/plain": [
              "plot without title"
            ]
          },
          "metadata": {
            "tags": [],
            "image/png": {
              "width": 720,
              "height": 480
            }
          }
        }
      ]
    },
    {
      "cell_type": "markdown",
      "metadata": {
        "id": "SZCwwhoROvMq"
      },
      "source": [
        "# Etude complementaire \r\n",
        "Représentation Graphique du prix moyen des listings de 4 personnes par date"
      ]
    },
    {
      "cell_type": "code",
      "metadata": {
        "colab": {
          "base_uri": "https://localhost:8080/",
          "height": 212
        },
        "id": "6AImkQ8pOoZY",
        "outputId": "224d95f7-ff75-4867-df2b-9269b673c2f7"
      },
      "source": [
        "data_average_acc4 <- data_united %>% filter(accommodates== 4) %>% group_by(date) %>% summarise(average_price= mean(price_euro)) \r\n",
        "head(data_average_acc4)"
      ],
      "execution_count": null,
      "outputs": [
        {
          "output_type": "stream",
          "text": [
            "`summarise()` ungrouping output (override with `.groups` argument)\n",
            "\n"
          ],
          "name": "stderr"
        },
        {
          "output_type": "display_data",
          "data": {
            "text/plain": [
              "  date       average_price\n",
              "1 2020-10-12 87.89003     \n",
              "2 2020-10-13 81.71464     \n",
              "3 2020-10-14 86.16993     \n",
              "4 2020-10-15 92.57564     \n",
              "5 2020-10-16 95.54713     \n",
              "6 2020-10-17 95.95204     "
            ],
            "text/latex": "A tibble: 6 × 2\n\\begin{tabular}{ll}\n date & average\\_price\\\\\n <date> & <dbl>\\\\\n\\hline\n\t 2020-10-12 & 87.89003\\\\\n\t 2020-10-13 & 81.71464\\\\\n\t 2020-10-14 & 86.16993\\\\\n\t 2020-10-15 & 92.57564\\\\\n\t 2020-10-16 & 95.54713\\\\\n\t 2020-10-17 & 95.95204\\\\\n\\end{tabular}\n",
            "text/markdown": "\nA tibble: 6 × 2\n\n| date &lt;date&gt; | average_price &lt;dbl&gt; |\n|---|---|\n| 2020-10-12 | 87.89003 |\n| 2020-10-13 | 81.71464 |\n| 2020-10-14 | 86.16993 |\n| 2020-10-15 | 92.57564 |\n| 2020-10-16 | 95.54713 |\n| 2020-10-17 | 95.95204 |\n\n",
            "text/html": [
              "<table>\n",
              "<caption>A tibble: 6 × 2</caption>\n",
              "<thead>\n",
              "\t<tr><th scope=col>date</th><th scope=col>average_price</th></tr>\n",
              "\t<tr><th scope=col>&lt;date&gt;</th><th scope=col>&lt;dbl&gt;</th></tr>\n",
              "</thead>\n",
              "<tbody>\n",
              "\t<tr><td>2020-10-12</td><td>87.89003</td></tr>\n",
              "\t<tr><td>2020-10-13</td><td>81.71464</td></tr>\n",
              "\t<tr><td>2020-10-14</td><td>86.16993</td></tr>\n",
              "\t<tr><td>2020-10-15</td><td>92.57564</td></tr>\n",
              "\t<tr><td>2020-10-16</td><td>95.54713</td></tr>\n",
              "\t<tr><td>2020-10-17</td><td>95.95204</td></tr>\n",
              "</tbody>\n",
              "</table>\n"
            ]
          },
          "metadata": {
            "tags": []
          }
        }
      ]
    },
    {
      "cell_type": "markdown",
      "metadata": {
        "id": "aTq5k-c_R0y4"
      },
      "source": [
        "Représentation Graphique du prix moyen des listings de 4 personnes par date"
      ]
    },
    {
      "cell_type": "code",
      "metadata": {
        "colab": {
          "base_uri": "https://localhost:8080/",
          "height": 496
        },
        "id": "aM3RRWSkR7Bn",
        "outputId": "d1233c44-cf5c-461b-e44b-d8f0dfe47286"
      },
      "source": [
        "options(repr.plot.width=12, repr.plot.height=8)\r\n",
        "ggplot(data_average_acc4, aes(x=date, y= average_price )) + geom_line(colour= \"orange\" ) +\r\n",
        " ggtitle(\"Average price of 4 person Accommodation by date\")    + theme_minimal() +\r\n",
        "  ylab(\"Price\") + xlab(\"Date\") +\r\n",
        "  theme(plot.title = element_text(hjust = 0.5)) "
      ],
      "execution_count": null,
      "outputs": [
        {
          "output_type": "display_data",
          "data": {
            "image/png": "[encoded data removed]",
            "text/plain": [
              "plot without title"
            ]
          },
          "metadata": {
            "tags": [],
            "image/png": {
              "width": 720,
              "height": 480
            }
          }
        }
      ]
    }
  ]
}